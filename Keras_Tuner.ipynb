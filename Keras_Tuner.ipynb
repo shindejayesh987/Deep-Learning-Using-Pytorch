{
  "nbformat": 4,
  "nbformat_minor": 0,
  "metadata": {
    "colab": {
      "provenance": [],
      "authorship_tag": "ABX9TyN5lULtkynhExdF3Y8vXh/L",
      "include_colab_link": true
    },
    "kernelspec": {
      "name": "python3",
      "display_name": "Python 3"
    },
    "language_info": {
      "name": "python"
    }
  },
  "cells": [
    {
      "cell_type": "markdown",
      "metadata": {
        "id": "view-in-github",
        "colab_type": "text"
      },
      "source": [
        "<a href=\"https://colab.research.google.com/github/shindejayesh987/Deep-Learning-Using-Pytorch/blob/main/Keras_Tuner.ipynb\" target=\"_parent\"><img src=\"https://colab.research.google.com/assets/colab-badge.svg\" alt=\"Open In Colab\"/></a>"
      ]
    },
    {
      "cell_type": "code",
      "execution_count": null,
      "metadata": {
        "id": "kAZARIPtHPNw"
      },
      "outputs": [],
      "source": [
        "import numpy as np\n",
        "import pandas as pd\n"
      ]
    },
    {
      "cell_type": "code",
      "source": [
        "df = pd.read_csv(\"diabetes.csv\")"
      ],
      "metadata": {
        "id": "GiMmHNHNHwDL"
      },
      "execution_count": null,
      "outputs": []
    },
    {
      "cell_type": "code",
      "source": [
        "df.head()"
      ],
      "metadata": {
        "colab": {
          "base_uri": "https://localhost:8080/",
          "height": 226
        },
        "id": "CLKkwvMjH3r0",
        "outputId": "a4603d25-3d26-47d5-f9de-3217e039dafd"
      },
      "execution_count": null,
      "outputs": [
        {
          "output_type": "execute_result",
          "data": {
            "text/plain": [
              "   Pregnancies  Glucose  BloodPressure  SkinThickness  Insulin   BMI  \\\n",
              "0            6      148             72             35        0  33.6   \n",
              "1            1       85             66             29        0  26.6   \n",
              "2            8      183             64              0        0  23.3   \n",
              "3            1       89             66             23       94  28.1   \n",
              "4            0      137             40             35      168  43.1   \n",
              "\n",
              "   DiabetesPedigreeFunction  Age  Outcome  \n",
              "0                     0.627   50        1  \n",
              "1                     0.351   31        0  \n",
              "2                     0.672   32        1  \n",
              "3                     0.167   21        0  \n",
              "4                     2.288   33        1  "
            ],
            "text/html": [
              "\n",
              "  <div id=\"df-f63b9be9-77c1-479c-99b9-d4cf209d7dc1\" class=\"colab-df-container\">\n",
              "    <div>\n",
              "<style scoped>\n",
              "    .dataframe tbody tr th:only-of-type {\n",
              "        vertical-align: middle;\n",
              "    }\n",
              "\n",
              "    .dataframe tbody tr th {\n",
              "        vertical-align: top;\n",
              "    }\n",
              "\n",
              "    .dataframe thead th {\n",
              "        text-align: right;\n",
              "    }\n",
              "</style>\n",
              "<table border=\"1\" class=\"dataframe\">\n",
              "  <thead>\n",
              "    <tr style=\"text-align: right;\">\n",
              "      <th></th>\n",
              "      <th>Pregnancies</th>\n",
              "      <th>Glucose</th>\n",
              "      <th>BloodPressure</th>\n",
              "      <th>SkinThickness</th>\n",
              "      <th>Insulin</th>\n",
              "      <th>BMI</th>\n",
              "      <th>DiabetesPedigreeFunction</th>\n",
              "      <th>Age</th>\n",
              "      <th>Outcome</th>\n",
              "    </tr>\n",
              "  </thead>\n",
              "  <tbody>\n",
              "    <tr>\n",
              "      <th>0</th>\n",
              "      <td>6</td>\n",
              "      <td>148</td>\n",
              "      <td>72</td>\n",
              "      <td>35</td>\n",
              "      <td>0</td>\n",
              "      <td>33.6</td>\n",
              "      <td>0.627</td>\n",
              "      <td>50</td>\n",
              "      <td>1</td>\n",
              "    </tr>\n",
              "    <tr>\n",
              "      <th>1</th>\n",
              "      <td>1</td>\n",
              "      <td>85</td>\n",
              "      <td>66</td>\n",
              "      <td>29</td>\n",
              "      <td>0</td>\n",
              "      <td>26.6</td>\n",
              "      <td>0.351</td>\n",
              "      <td>31</td>\n",
              "      <td>0</td>\n",
              "    </tr>\n",
              "    <tr>\n",
              "      <th>2</th>\n",
              "      <td>8</td>\n",
              "      <td>183</td>\n",
              "      <td>64</td>\n",
              "      <td>0</td>\n",
              "      <td>0</td>\n",
              "      <td>23.3</td>\n",
              "      <td>0.672</td>\n",
              "      <td>32</td>\n",
              "      <td>1</td>\n",
              "    </tr>\n",
              "    <tr>\n",
              "      <th>3</th>\n",
              "      <td>1</td>\n",
              "      <td>89</td>\n",
              "      <td>66</td>\n",
              "      <td>23</td>\n",
              "      <td>94</td>\n",
              "      <td>28.1</td>\n",
              "      <td>0.167</td>\n",
              "      <td>21</td>\n",
              "      <td>0</td>\n",
              "    </tr>\n",
              "    <tr>\n",
              "      <th>4</th>\n",
              "      <td>0</td>\n",
              "      <td>137</td>\n",
              "      <td>40</td>\n",
              "      <td>35</td>\n",
              "      <td>168</td>\n",
              "      <td>43.1</td>\n",
              "      <td>2.288</td>\n",
              "      <td>33</td>\n",
              "      <td>1</td>\n",
              "    </tr>\n",
              "  </tbody>\n",
              "</table>\n",
              "</div>\n",
              "    <div class=\"colab-df-buttons\">\n",
              "\n",
              "  <div class=\"colab-df-container\">\n",
              "    <button class=\"colab-df-convert\" onclick=\"convertToInteractive('df-f63b9be9-77c1-479c-99b9-d4cf209d7dc1')\"\n",
              "            title=\"Convert this dataframe to an interactive table.\"\n",
              "            style=\"display:none;\">\n",
              "\n",
              "  <svg xmlns=\"http://www.w3.org/2000/svg\" height=\"24px\" viewBox=\"0 -960 960 960\">\n",
              "    <path d=\"M120-120v-720h720v720H120Zm60-500h600v-160H180v160Zm220 220h160v-160H400v160Zm0 220h160v-160H400v160ZM180-400h160v-160H180v160Zm440 0h160v-160H620v160ZM180-180h160v-160H180v160Zm440 0h160v-160H620v160Z\"/>\n",
              "  </svg>\n",
              "    </button>\n",
              "\n",
              "  <style>\n",
              "    .colab-df-container {\n",
              "      display:flex;\n",
              "      gap: 12px;\n",
              "    }\n",
              "\n",
              "    .colab-df-convert {\n",
              "      background-color: #E8F0FE;\n",
              "      border: none;\n",
              "      border-radius: 50%;\n",
              "      cursor: pointer;\n",
              "      display: none;\n",
              "      fill: #1967D2;\n",
              "      height: 32px;\n",
              "      padding: 0 0 0 0;\n",
              "      width: 32px;\n",
              "    }\n",
              "\n",
              "    .colab-df-convert:hover {\n",
              "      background-color: #E2EBFA;\n",
              "      box-shadow: 0px 1px 2px rgba(60, 64, 67, 0.3), 0px 1px 3px 1px rgba(60, 64, 67, 0.15);\n",
              "      fill: #174EA6;\n",
              "    }\n",
              "\n",
              "    .colab-df-buttons div {\n",
              "      margin-bottom: 4px;\n",
              "    }\n",
              "\n",
              "    [theme=dark] .colab-df-convert {\n",
              "      background-color: #3B4455;\n",
              "      fill: #D2E3FC;\n",
              "    }\n",
              "\n",
              "    [theme=dark] .colab-df-convert:hover {\n",
              "      background-color: #434B5C;\n",
              "      box-shadow: 0px 1px 3px 1px rgba(0, 0, 0, 0.15);\n",
              "      filter: drop-shadow(0px 1px 2px rgba(0, 0, 0, 0.3));\n",
              "      fill: #FFFFFF;\n",
              "    }\n",
              "  </style>\n",
              "\n",
              "    <script>\n",
              "      const buttonEl =\n",
              "        document.querySelector('#df-f63b9be9-77c1-479c-99b9-d4cf209d7dc1 button.colab-df-convert');\n",
              "      buttonEl.style.display =\n",
              "        google.colab.kernel.accessAllowed ? 'block' : 'none';\n",
              "\n",
              "      async function convertToInteractive(key) {\n",
              "        const element = document.querySelector('#df-f63b9be9-77c1-479c-99b9-d4cf209d7dc1');\n",
              "        const dataTable =\n",
              "          await google.colab.kernel.invokeFunction('convertToInteractive',\n",
              "                                                    [key], {});\n",
              "        if (!dataTable) return;\n",
              "\n",
              "        const docLinkHtml = 'Like what you see? Visit the ' +\n",
              "          '<a target=\"_blank\" href=https://colab.research.google.com/notebooks/data_table.ipynb>data table notebook</a>'\n",
              "          + ' to learn more about interactive tables.';\n",
              "        element.innerHTML = '';\n",
              "        dataTable['output_type'] = 'display_data';\n",
              "        await google.colab.output.renderOutput(dataTable, element);\n",
              "        const docLink = document.createElement('div');\n",
              "        docLink.innerHTML = docLinkHtml;\n",
              "        element.appendChild(docLink);\n",
              "      }\n",
              "    </script>\n",
              "  </div>\n",
              "\n",
              "\n",
              "<div id=\"df-b5fb37e7-58d1-46a0-995d-f8a04f8941c2\">\n",
              "  <button class=\"colab-df-quickchart\" onclick=\"quickchart('df-b5fb37e7-58d1-46a0-995d-f8a04f8941c2')\"\n",
              "            title=\"Suggest charts\"\n",
              "            style=\"display:none;\">\n",
              "\n",
              "<svg xmlns=\"http://www.w3.org/2000/svg\" height=\"24px\"viewBox=\"0 0 24 24\"\n",
              "     width=\"24px\">\n",
              "    <g>\n",
              "        <path d=\"M19 3H5c-1.1 0-2 .9-2 2v14c0 1.1.9 2 2 2h14c1.1 0 2-.9 2-2V5c0-1.1-.9-2-2-2zM9 17H7v-7h2v7zm4 0h-2V7h2v10zm4 0h-2v-4h2v4z\"/>\n",
              "    </g>\n",
              "</svg>\n",
              "  </button>\n",
              "\n",
              "<style>\n",
              "  .colab-df-quickchart {\n",
              "      --bg-color: #E8F0FE;\n",
              "      --fill-color: #1967D2;\n",
              "      --hover-bg-color: #E2EBFA;\n",
              "      --hover-fill-color: #174EA6;\n",
              "      --disabled-fill-color: #AAA;\n",
              "      --disabled-bg-color: #DDD;\n",
              "  }\n",
              "\n",
              "  [theme=dark] .colab-df-quickchart {\n",
              "      --bg-color: #3B4455;\n",
              "      --fill-color: #D2E3FC;\n",
              "      --hover-bg-color: #434B5C;\n",
              "      --hover-fill-color: #FFFFFF;\n",
              "      --disabled-bg-color: #3B4455;\n",
              "      --disabled-fill-color: #666;\n",
              "  }\n",
              "\n",
              "  .colab-df-quickchart {\n",
              "    background-color: var(--bg-color);\n",
              "    border: none;\n",
              "    border-radius: 50%;\n",
              "    cursor: pointer;\n",
              "    display: none;\n",
              "    fill: var(--fill-color);\n",
              "    height: 32px;\n",
              "    padding: 0;\n",
              "    width: 32px;\n",
              "  }\n",
              "\n",
              "  .colab-df-quickchart:hover {\n",
              "    background-color: var(--hover-bg-color);\n",
              "    box-shadow: 0 1px 2px rgba(60, 64, 67, 0.3), 0 1px 3px 1px rgba(60, 64, 67, 0.15);\n",
              "    fill: var(--button-hover-fill-color);\n",
              "  }\n",
              "\n",
              "  .colab-df-quickchart-complete:disabled,\n",
              "  .colab-df-quickchart-complete:disabled:hover {\n",
              "    background-color: var(--disabled-bg-color);\n",
              "    fill: var(--disabled-fill-color);\n",
              "    box-shadow: none;\n",
              "  }\n",
              "\n",
              "  .colab-df-spinner {\n",
              "    border: 2px solid var(--fill-color);\n",
              "    border-color: transparent;\n",
              "    border-bottom-color: var(--fill-color);\n",
              "    animation:\n",
              "      spin 1s steps(1) infinite;\n",
              "  }\n",
              "\n",
              "  @keyframes spin {\n",
              "    0% {\n",
              "      border-color: transparent;\n",
              "      border-bottom-color: var(--fill-color);\n",
              "      border-left-color: var(--fill-color);\n",
              "    }\n",
              "    20% {\n",
              "      border-color: transparent;\n",
              "      border-left-color: var(--fill-color);\n",
              "      border-top-color: var(--fill-color);\n",
              "    }\n",
              "    30% {\n",
              "      border-color: transparent;\n",
              "      border-left-color: var(--fill-color);\n",
              "      border-top-color: var(--fill-color);\n",
              "      border-right-color: var(--fill-color);\n",
              "    }\n",
              "    40% {\n",
              "      border-color: transparent;\n",
              "      border-right-color: var(--fill-color);\n",
              "      border-top-color: var(--fill-color);\n",
              "    }\n",
              "    60% {\n",
              "      border-color: transparent;\n",
              "      border-right-color: var(--fill-color);\n",
              "    }\n",
              "    80% {\n",
              "      border-color: transparent;\n",
              "      border-right-color: var(--fill-color);\n",
              "      border-bottom-color: var(--fill-color);\n",
              "    }\n",
              "    90% {\n",
              "      border-color: transparent;\n",
              "      border-bottom-color: var(--fill-color);\n",
              "    }\n",
              "  }\n",
              "</style>\n",
              "\n",
              "  <script>\n",
              "    async function quickchart(key) {\n",
              "      const quickchartButtonEl =\n",
              "        document.querySelector('#' + key + ' button');\n",
              "      quickchartButtonEl.disabled = true;  // To prevent multiple clicks.\n",
              "      quickchartButtonEl.classList.add('colab-df-spinner');\n",
              "      try {\n",
              "        const charts = await google.colab.kernel.invokeFunction(\n",
              "            'suggestCharts', [key], {});\n",
              "      } catch (error) {\n",
              "        console.error('Error during call to suggestCharts:', error);\n",
              "      }\n",
              "      quickchartButtonEl.classList.remove('colab-df-spinner');\n",
              "      quickchartButtonEl.classList.add('colab-df-quickchart-complete');\n",
              "    }\n",
              "    (() => {\n",
              "      let quickchartButtonEl =\n",
              "        document.querySelector('#df-b5fb37e7-58d1-46a0-995d-f8a04f8941c2 button');\n",
              "      quickchartButtonEl.style.display =\n",
              "        google.colab.kernel.accessAllowed ? 'block' : 'none';\n",
              "    })();\n",
              "  </script>\n",
              "</div>\n",
              "\n",
              "    </div>\n",
              "  </div>\n"
            ],
            "application/vnd.google.colaboratory.intrinsic+json": {
              "type": "dataframe",
              "variable_name": "df",
              "summary": "{\n  \"name\": \"df\",\n  \"rows\": 768,\n  \"fields\": [\n    {\n      \"column\": \"Pregnancies\",\n      \"properties\": {\n        \"dtype\": \"number\",\n        \"std\": 3,\n        \"min\": 0,\n        \"max\": 17,\n        \"num_unique_values\": 17,\n        \"samples\": [\n          6,\n          1,\n          3\n        ],\n        \"semantic_type\": \"\",\n        \"description\": \"\"\n      }\n    },\n    {\n      \"column\": \"Glucose\",\n      \"properties\": {\n        \"dtype\": \"number\",\n        \"std\": 31,\n        \"min\": 0,\n        \"max\": 199,\n        \"num_unique_values\": 136,\n        \"samples\": [\n          151,\n          101,\n          112\n        ],\n        \"semantic_type\": \"\",\n        \"description\": \"\"\n      }\n    },\n    {\n      \"column\": \"BloodPressure\",\n      \"properties\": {\n        \"dtype\": \"number\",\n        \"std\": 19,\n        \"min\": 0,\n        \"max\": 122,\n        \"num_unique_values\": 47,\n        \"samples\": [\n          86,\n          46,\n          85\n        ],\n        \"semantic_type\": \"\",\n        \"description\": \"\"\n      }\n    },\n    {\n      \"column\": \"SkinThickness\",\n      \"properties\": {\n        \"dtype\": \"number\",\n        \"std\": 15,\n        \"min\": 0,\n        \"max\": 99,\n        \"num_unique_values\": 51,\n        \"samples\": [\n          7,\n          12,\n          48\n        ],\n        \"semantic_type\": \"\",\n        \"description\": \"\"\n      }\n    },\n    {\n      \"column\": \"Insulin\",\n      \"properties\": {\n        \"dtype\": \"number\",\n        \"std\": 115,\n        \"min\": 0,\n        \"max\": 846,\n        \"num_unique_values\": 186,\n        \"samples\": [\n          52,\n          41,\n          183\n        ],\n        \"semantic_type\": \"\",\n        \"description\": \"\"\n      }\n    },\n    {\n      \"column\": \"BMI\",\n      \"properties\": {\n        \"dtype\": \"number\",\n        \"std\": 7.884160320375446,\n        \"min\": 0.0,\n        \"max\": 67.1,\n        \"num_unique_values\": 248,\n        \"samples\": [\n          19.9,\n          31.0,\n          38.1\n        ],\n        \"semantic_type\": \"\",\n        \"description\": \"\"\n      }\n    },\n    {\n      \"column\": \"DiabetesPedigreeFunction\",\n      \"properties\": {\n        \"dtype\": \"number\",\n        \"std\": 0.3313285950127749,\n        \"min\": 0.078,\n        \"max\": 2.42,\n        \"num_unique_values\": 517,\n        \"samples\": [\n          1.731,\n          0.426,\n          0.138\n        ],\n        \"semantic_type\": \"\",\n        \"description\": \"\"\n      }\n    },\n    {\n      \"column\": \"Age\",\n      \"properties\": {\n        \"dtype\": \"number\",\n        \"std\": 11,\n        \"min\": 21,\n        \"max\": 81,\n        \"num_unique_values\": 52,\n        \"samples\": [\n          60,\n          47,\n          72\n        ],\n        \"semantic_type\": \"\",\n        \"description\": \"\"\n      }\n    },\n    {\n      \"column\": \"Outcome\",\n      \"properties\": {\n        \"dtype\": \"number\",\n        \"std\": 0,\n        \"min\": 0,\n        \"max\": 1,\n        \"num_unique_values\": 2,\n        \"samples\": [\n          0,\n          1\n        ],\n        \"semantic_type\": \"\",\n        \"description\": \"\"\n      }\n    }\n  ]\n}"
            }
          },
          "metadata": {},
          "execution_count": 5
        }
      ]
    },
    {
      "cell_type": "code",
      "source": [
        "df.corr()['Outcome']"
      ],
      "metadata": {
        "colab": {
          "base_uri": "https://localhost:8080/"
        },
        "id": "ZIdzTHZoH4RW",
        "outputId": "02efcf77-e612-42ab-dafe-6c44e434fa20"
      },
      "execution_count": null,
      "outputs": [
        {
          "output_type": "execute_result",
          "data": {
            "text/plain": [
              "Pregnancies                 0.221898\n",
              "Glucose                     0.466581\n",
              "BloodPressure               0.065068\n",
              "SkinThickness               0.074752\n",
              "Insulin                     0.130548\n",
              "BMI                         0.292695\n",
              "DiabetesPedigreeFunction    0.173844\n",
              "Age                         0.238356\n",
              "Outcome                     1.000000\n",
              "Name: Outcome, dtype: float64"
            ]
          },
          "metadata": {},
          "execution_count": 7
        }
      ]
    },
    {
      "cell_type": "code",
      "source": [
        "X = df.iloc[:,:-1].values\n",
        "y = df.iloc[:,-1].values"
      ],
      "metadata": {
        "id": "0oxLmyaxID-O"
      },
      "execution_count": null,
      "outputs": []
    },
    {
      "cell_type": "code",
      "source": [
        "X"
      ],
      "metadata": {
        "colab": {
          "base_uri": "https://localhost:8080/"
        },
        "id": "mbKSUTncIS3T",
        "outputId": "97c99b15-468b-4ccd-cf17-b247e67a4632"
      },
      "execution_count": null,
      "outputs": [
        {
          "output_type": "execute_result",
          "data": {
            "text/plain": [
              "array([[  6.   , 148.   ,  72.   , ...,  33.6  ,   0.627,  50.   ],\n",
              "       [  1.   ,  85.   ,  66.   , ...,  26.6  ,   0.351,  31.   ],\n",
              "       [  8.   , 183.   ,  64.   , ...,  23.3  ,   0.672,  32.   ],\n",
              "       ...,\n",
              "       [  5.   , 121.   ,  72.   , ...,  26.2  ,   0.245,  30.   ],\n",
              "       [  1.   , 126.   ,  60.   , ...,  30.1  ,   0.349,  47.   ],\n",
              "       [  1.   ,  93.   ,  70.   , ...,  30.4  ,   0.315,  23.   ]])"
            ]
          },
          "metadata": {},
          "execution_count": 10
        }
      ]
    },
    {
      "cell_type": "code",
      "source": [
        "from sklearn.preprocessing import StandardScaler\n",
        "scaler = StandardScaler()"
      ],
      "metadata": {
        "id": "Pc7P_fVXIaHN"
      },
      "execution_count": null,
      "outputs": []
    },
    {
      "cell_type": "code",
      "source": [
        "X = scaler.fit_transform(X)"
      ],
      "metadata": {
        "id": "kEcsJio_Ijux"
      },
      "execution_count": null,
      "outputs": []
    },
    {
      "cell_type": "code",
      "source": [
        "X"
      ],
      "metadata": {
        "colab": {
          "base_uri": "https://localhost:8080/"
        },
        "id": "Jjrer29YIqT8",
        "outputId": "18e7858e-2918-45b4-98f1-99ec9009cbbb"
      },
      "execution_count": null,
      "outputs": [
        {
          "output_type": "execute_result",
          "data": {
            "text/plain": [
              "array([[ 0.63994726,  0.84832379,  0.14964075, ...,  0.20401277,\n",
              "         0.46849198,  1.4259954 ],\n",
              "       [-0.84488505, -1.12339636, -0.16054575, ..., -0.68442195,\n",
              "        -0.36506078, -0.19067191],\n",
              "       [ 1.23388019,  1.94372388, -0.26394125, ..., -1.10325546,\n",
              "         0.60439732, -0.10558415],\n",
              "       ...,\n",
              "       [ 0.3429808 ,  0.00330087,  0.14964075, ..., -0.73518964,\n",
              "        -0.68519336, -0.27575966],\n",
              "       [-0.84488505,  0.1597866 , -0.47073225, ..., -0.24020459,\n",
              "        -0.37110101,  1.17073215],\n",
              "       [-0.84488505, -0.8730192 ,  0.04624525, ..., -0.20212881,\n",
              "        -0.47378505, -0.87137393]])"
            ]
          },
          "metadata": {},
          "execution_count": 13
        }
      ]
    },
    {
      "cell_type": "code",
      "source": [
        "X.shape"
      ],
      "metadata": {
        "colab": {
          "base_uri": "https://localhost:8080/"
        },
        "id": "uT7ud_P3Iq2O",
        "outputId": "2c9fdde7-2973-46b5-f5c7-9b5a31936123"
      },
      "execution_count": null,
      "outputs": [
        {
          "output_type": "execute_result",
          "data": {
            "text/plain": [
              "(768, 8)"
            ]
          },
          "metadata": {},
          "execution_count": 14
        }
      ]
    },
    {
      "cell_type": "code",
      "source": [
        "from sklearn.model_selection import train_test_split\n",
        "X_train , X_test , y_train,y_test = train_test_split(X,y,test_size=0.2,random_state=1)"
      ],
      "metadata": {
        "id": "0OikFlERIuBQ"
      },
      "execution_count": null,
      "outputs": []
    },
    {
      "cell_type": "code",
      "source": [
        "import tensorflow\n",
        "from tensorflow import keras\n",
        "from keras import Sequential\n",
        "from keras.layers import Dense,Dropout"
      ],
      "metadata": {
        "id": "5IfiMiKdI-H1"
      },
      "execution_count": null,
      "outputs": []
    },
    {
      "cell_type": "code",
      "source": [
        "model = Sequential()\n",
        "model.add(Dense(32,activation='relu',input_dim = 8))\n",
        "model.add(Dense(1,activation='sigmoid'))\n",
        "\n",
        "model.compile(optimizer='Adam',loss = 'binary_crossentropy',metrics=['accuracy'])"
      ],
      "metadata": {
        "id": "7Y52zYftJMRy"
      },
      "execution_count": null,
      "outputs": []
    },
    {
      "cell_type": "code",
      "source": [
        "model.fit(X_train, y_train,batch_size = 32,epochs = 100,validation_data=(X_test,y_test))"
      ],
      "metadata": {
        "colab": {
          "base_uri": "https://localhost:8080/"
        },
        "id": "gqYYzxpmJt4j",
        "outputId": "8d357f2f-a740-4d56-ef91-799a7c2e3442"
      },
      "execution_count": null,
      "outputs": [
        {
          "output_type": "stream",
          "name": "stdout",
          "text": [
            "Epoch 1/100\n",
            "20/20 [==============================] - 0s 13ms/step - loss: 0.4846 - accuracy: 0.7655 - val_loss: 0.4770 - val_accuracy: 0.7792\n",
            "Epoch 2/100\n",
            "20/20 [==============================] - 0s 4ms/step - loss: 0.4796 - accuracy: 0.7704 - val_loss: 0.4759 - val_accuracy: 0.7792\n",
            "Epoch 3/100\n",
            "20/20 [==============================] - 0s 4ms/step - loss: 0.4765 - accuracy: 0.7655 - val_loss: 0.4752 - val_accuracy: 0.7922\n",
            "Epoch 4/100\n",
            "20/20 [==============================] - 0s 4ms/step - loss: 0.4732 - accuracy: 0.7736 - val_loss: 0.4729 - val_accuracy: 0.7922\n",
            "Epoch 5/100\n",
            "20/20 [==============================] - 0s 4ms/step - loss: 0.4707 - accuracy: 0.7720 - val_loss: 0.4717 - val_accuracy: 0.7857\n",
            "Epoch 6/100\n",
            "20/20 [==============================] - 0s 5ms/step - loss: 0.4691 - accuracy: 0.7736 - val_loss: 0.4702 - val_accuracy: 0.7922\n",
            "Epoch 7/100\n",
            "20/20 [==============================] - 0s 5ms/step - loss: 0.4670 - accuracy: 0.7671 - val_loss: 0.4691 - val_accuracy: 0.7922\n",
            "Epoch 8/100\n",
            "20/20 [==============================] - 0s 4ms/step - loss: 0.4643 - accuracy: 0.7687 - val_loss: 0.4676 - val_accuracy: 0.7922\n",
            "Epoch 9/100\n",
            "20/20 [==============================] - 0s 4ms/step - loss: 0.4627 - accuracy: 0.7687 - val_loss: 0.4678 - val_accuracy: 0.7922\n",
            "Epoch 10/100\n",
            "20/20 [==============================] - 0s 4ms/step - loss: 0.4609 - accuracy: 0.7671 - val_loss: 0.4667 - val_accuracy: 0.7922\n",
            "Epoch 11/100\n",
            "20/20 [==============================] - 0s 4ms/step - loss: 0.4602 - accuracy: 0.7704 - val_loss: 0.4668 - val_accuracy: 0.7922\n",
            "Epoch 12/100\n",
            "20/20 [==============================] - 0s 3ms/step - loss: 0.4583 - accuracy: 0.7671 - val_loss: 0.4661 - val_accuracy: 0.7922\n",
            "Epoch 13/100\n",
            "20/20 [==============================] - 0s 4ms/step - loss: 0.4574 - accuracy: 0.7704 - val_loss: 0.4650 - val_accuracy: 0.7987\n",
            "Epoch 14/100\n",
            "20/20 [==============================] - 0s 4ms/step - loss: 0.4565 - accuracy: 0.7671 - val_loss: 0.4667 - val_accuracy: 0.7922\n",
            "Epoch 15/100\n",
            "20/20 [==============================] - 0s 4ms/step - loss: 0.4548 - accuracy: 0.7704 - val_loss: 0.4656 - val_accuracy: 0.7922\n",
            "Epoch 16/100\n",
            "20/20 [==============================] - 0s 5ms/step - loss: 0.4538 - accuracy: 0.7720 - val_loss: 0.4652 - val_accuracy: 0.7922\n",
            "Epoch 17/100\n",
            "20/20 [==============================] - 0s 4ms/step - loss: 0.4533 - accuracy: 0.7736 - val_loss: 0.4637 - val_accuracy: 0.7922\n",
            "Epoch 18/100\n",
            "20/20 [==============================] - 0s 4ms/step - loss: 0.4517 - accuracy: 0.7752 - val_loss: 0.4633 - val_accuracy: 0.7922\n",
            "Epoch 19/100\n",
            "20/20 [==============================] - 0s 3ms/step - loss: 0.4506 - accuracy: 0.7720 - val_loss: 0.4622 - val_accuracy: 0.7922\n",
            "Epoch 20/100\n",
            "20/20 [==============================] - 0s 4ms/step - loss: 0.4504 - accuracy: 0.7720 - val_loss: 0.4629 - val_accuracy: 0.7922\n",
            "Epoch 21/100\n",
            "20/20 [==============================] - 0s 4ms/step - loss: 0.4495 - accuracy: 0.7720 - val_loss: 0.4628 - val_accuracy: 0.7922\n",
            "Epoch 22/100\n",
            "20/20 [==============================] - 0s 4ms/step - loss: 0.4489 - accuracy: 0.7687 - val_loss: 0.4627 - val_accuracy: 0.7922\n",
            "Epoch 23/100\n",
            "20/20 [==============================] - 0s 4ms/step - loss: 0.4480 - accuracy: 0.7687 - val_loss: 0.4643 - val_accuracy: 0.7987\n",
            "Epoch 24/100\n",
            "20/20 [==============================] - 0s 4ms/step - loss: 0.4465 - accuracy: 0.7704 - val_loss: 0.4631 - val_accuracy: 0.7987\n",
            "Epoch 25/100\n",
            "20/20 [==============================] - 0s 4ms/step - loss: 0.4455 - accuracy: 0.7687 - val_loss: 0.4613 - val_accuracy: 0.7987\n",
            "Epoch 26/100\n",
            "20/20 [==============================] - 0s 4ms/step - loss: 0.4452 - accuracy: 0.7671 - val_loss: 0.4603 - val_accuracy: 0.7987\n",
            "Epoch 27/100\n",
            "20/20 [==============================] - 0s 4ms/step - loss: 0.4440 - accuracy: 0.7687 - val_loss: 0.4599 - val_accuracy: 0.7987\n",
            "Epoch 28/100\n",
            "20/20 [==============================] - 0s 4ms/step - loss: 0.4436 - accuracy: 0.7704 - val_loss: 0.4598 - val_accuracy: 0.7987\n",
            "Epoch 29/100\n",
            "20/20 [==============================] - 0s 4ms/step - loss: 0.4429 - accuracy: 0.7720 - val_loss: 0.4598 - val_accuracy: 0.7987\n",
            "Epoch 30/100\n",
            "20/20 [==============================] - 0s 3ms/step - loss: 0.4420 - accuracy: 0.7704 - val_loss: 0.4596 - val_accuracy: 0.7987\n",
            "Epoch 31/100\n",
            "20/20 [==============================] - 0s 4ms/step - loss: 0.4414 - accuracy: 0.7720 - val_loss: 0.4589 - val_accuracy: 0.7987\n",
            "Epoch 32/100\n",
            "20/20 [==============================] - 0s 3ms/step - loss: 0.4416 - accuracy: 0.7720 - val_loss: 0.4596 - val_accuracy: 0.7987\n",
            "Epoch 33/100\n",
            "20/20 [==============================] - 0s 4ms/step - loss: 0.4404 - accuracy: 0.7736 - val_loss: 0.4581 - val_accuracy: 0.7987\n",
            "Epoch 34/100\n",
            "20/20 [==============================] - 0s 4ms/step - loss: 0.4397 - accuracy: 0.7736 - val_loss: 0.4580 - val_accuracy: 0.7987\n",
            "Epoch 35/100\n",
            "20/20 [==============================] - 0s 4ms/step - loss: 0.4396 - accuracy: 0.7720 - val_loss: 0.4573 - val_accuracy: 0.7987\n",
            "Epoch 36/100\n",
            "20/20 [==============================] - 0s 4ms/step - loss: 0.4389 - accuracy: 0.7704 - val_loss: 0.4569 - val_accuracy: 0.7987\n",
            "Epoch 37/100\n",
            "20/20 [==============================] - 0s 4ms/step - loss: 0.4380 - accuracy: 0.7720 - val_loss: 0.4574 - val_accuracy: 0.7987\n",
            "Epoch 38/100\n",
            "20/20 [==============================] - 0s 4ms/step - loss: 0.4383 - accuracy: 0.7736 - val_loss: 0.4578 - val_accuracy: 0.7987\n",
            "Epoch 39/100\n",
            "20/20 [==============================] - 0s 4ms/step - loss: 0.4373 - accuracy: 0.7785 - val_loss: 0.4578 - val_accuracy: 0.7987\n",
            "Epoch 40/100\n",
            "20/20 [==============================] - 0s 5ms/step - loss: 0.4366 - accuracy: 0.7736 - val_loss: 0.4574 - val_accuracy: 0.7987\n",
            "Epoch 41/100\n",
            "20/20 [==============================] - 0s 4ms/step - loss: 0.4362 - accuracy: 0.7785 - val_loss: 0.4574 - val_accuracy: 0.7922\n",
            "Epoch 42/100\n",
            "20/20 [==============================] - 0s 4ms/step - loss: 0.4358 - accuracy: 0.7769 - val_loss: 0.4569 - val_accuracy: 0.7922\n",
            "Epoch 43/100\n",
            "20/20 [==============================] - 0s 4ms/step - loss: 0.4349 - accuracy: 0.7801 - val_loss: 0.4569 - val_accuracy: 0.7922\n",
            "Epoch 44/100\n",
            "20/20 [==============================] - 0s 4ms/step - loss: 0.4341 - accuracy: 0.7785 - val_loss: 0.4572 - val_accuracy: 0.7987\n",
            "Epoch 45/100\n",
            "20/20 [==============================] - 0s 4ms/step - loss: 0.4336 - accuracy: 0.7752 - val_loss: 0.4573 - val_accuracy: 0.7922\n",
            "Epoch 46/100\n",
            "20/20 [==============================] - 0s 5ms/step - loss: 0.4332 - accuracy: 0.7818 - val_loss: 0.4577 - val_accuracy: 0.7922\n",
            "Epoch 47/100\n",
            "20/20 [==============================] - 0s 4ms/step - loss: 0.4329 - accuracy: 0.7818 - val_loss: 0.4573 - val_accuracy: 0.7922\n",
            "Epoch 48/100\n",
            "20/20 [==============================] - 0s 5ms/step - loss: 0.4324 - accuracy: 0.7801 - val_loss: 0.4573 - val_accuracy: 0.7922\n",
            "Epoch 49/100\n",
            "20/20 [==============================] - 0s 4ms/step - loss: 0.4319 - accuracy: 0.7850 - val_loss: 0.4577 - val_accuracy: 0.7922\n",
            "Epoch 50/100\n",
            "20/20 [==============================] - 0s 4ms/step - loss: 0.4318 - accuracy: 0.7834 - val_loss: 0.4573 - val_accuracy: 0.7922\n",
            "Epoch 51/100\n",
            "20/20 [==============================] - 0s 4ms/step - loss: 0.4321 - accuracy: 0.7785 - val_loss: 0.4585 - val_accuracy: 0.7922\n",
            "Epoch 52/100\n",
            "20/20 [==============================] - 0s 4ms/step - loss: 0.4311 - accuracy: 0.7785 - val_loss: 0.4569 - val_accuracy: 0.7922\n",
            "Epoch 53/100\n",
            "20/20 [==============================] - 0s 4ms/step - loss: 0.4301 - accuracy: 0.7850 - val_loss: 0.4570 - val_accuracy: 0.7922\n",
            "Epoch 54/100\n",
            "20/20 [==============================] - 0s 4ms/step - loss: 0.4296 - accuracy: 0.7866 - val_loss: 0.4571 - val_accuracy: 0.7922\n",
            "Epoch 55/100\n",
            "20/20 [==============================] - 0s 4ms/step - loss: 0.4301 - accuracy: 0.7834 - val_loss: 0.4572 - val_accuracy: 0.7987\n",
            "Epoch 56/100\n",
            "20/20 [==============================] - 0s 4ms/step - loss: 0.4289 - accuracy: 0.7883 - val_loss: 0.4569 - val_accuracy: 0.7987\n",
            "Epoch 57/100\n",
            "20/20 [==============================] - 0s 4ms/step - loss: 0.4287 - accuracy: 0.7915 - val_loss: 0.4562 - val_accuracy: 0.7987\n",
            "Epoch 58/100\n",
            "20/20 [==============================] - 0s 4ms/step - loss: 0.4277 - accuracy: 0.7883 - val_loss: 0.4564 - val_accuracy: 0.7987\n",
            "Epoch 59/100\n",
            "20/20 [==============================] - 0s 4ms/step - loss: 0.4277 - accuracy: 0.7850 - val_loss: 0.4559 - val_accuracy: 0.7987\n",
            "Epoch 60/100\n",
            "20/20 [==============================] - 0s 4ms/step - loss: 0.4273 - accuracy: 0.7899 - val_loss: 0.4564 - val_accuracy: 0.8052\n",
            "Epoch 61/100\n",
            "20/20 [==============================] - 0s 5ms/step - loss: 0.4267 - accuracy: 0.7915 - val_loss: 0.4552 - val_accuracy: 0.8052\n",
            "Epoch 62/100\n",
            "20/20 [==============================] - 0s 4ms/step - loss: 0.4263 - accuracy: 0.7932 - val_loss: 0.4539 - val_accuracy: 0.8052\n",
            "Epoch 63/100\n",
            "20/20 [==============================] - 0s 4ms/step - loss: 0.4268 - accuracy: 0.7899 - val_loss: 0.4529 - val_accuracy: 0.8052\n",
            "Epoch 64/100\n",
            "20/20 [==============================] - 0s 5ms/step - loss: 0.4254 - accuracy: 0.7964 - val_loss: 0.4541 - val_accuracy: 0.8052\n",
            "Epoch 65/100\n",
            "20/20 [==============================] - 0s 4ms/step - loss: 0.4255 - accuracy: 0.7915 - val_loss: 0.4555 - val_accuracy: 0.7987\n",
            "Epoch 66/100\n",
            "20/20 [==============================] - 0s 4ms/step - loss: 0.4250 - accuracy: 0.7866 - val_loss: 0.4550 - val_accuracy: 0.7987\n",
            "Epoch 67/100\n",
            "20/20 [==============================] - 0s 5ms/step - loss: 0.4243 - accuracy: 0.7932 - val_loss: 0.4533 - val_accuracy: 0.8052\n",
            "Epoch 68/100\n",
            "20/20 [==============================] - 0s 4ms/step - loss: 0.4246 - accuracy: 0.7899 - val_loss: 0.4532 - val_accuracy: 0.8052\n",
            "Epoch 69/100\n",
            "20/20 [==============================] - 0s 4ms/step - loss: 0.4240 - accuracy: 0.7915 - val_loss: 0.4539 - val_accuracy: 0.7922\n",
            "Epoch 70/100\n",
            "20/20 [==============================] - 0s 4ms/step - loss: 0.4234 - accuracy: 0.7948 - val_loss: 0.4547 - val_accuracy: 0.7987\n",
            "Epoch 71/100\n",
            "20/20 [==============================] - 0s 4ms/step - loss: 0.4232 - accuracy: 0.7948 - val_loss: 0.4539 - val_accuracy: 0.7922\n",
            "Epoch 72/100\n",
            "20/20 [==============================] - 0s 4ms/step - loss: 0.4226 - accuracy: 0.7915 - val_loss: 0.4548 - val_accuracy: 0.7922\n",
            "Epoch 73/100\n",
            "20/20 [==============================] - 0s 5ms/step - loss: 0.4227 - accuracy: 0.7866 - val_loss: 0.4522 - val_accuracy: 0.7987\n",
            "Epoch 74/100\n",
            "20/20 [==============================] - 0s 4ms/step - loss: 0.4215 - accuracy: 0.7964 - val_loss: 0.4531 - val_accuracy: 0.7922\n",
            "Epoch 75/100\n",
            "20/20 [==============================] - 0s 4ms/step - loss: 0.4216 - accuracy: 0.7915 - val_loss: 0.4532 - val_accuracy: 0.7987\n",
            "Epoch 76/100\n",
            "20/20 [==============================] - 0s 4ms/step - loss: 0.4214 - accuracy: 0.7948 - val_loss: 0.4530 - val_accuracy: 0.8052\n",
            "Epoch 77/100\n",
            "20/20 [==============================] - 0s 3ms/step - loss: 0.4210 - accuracy: 0.7964 - val_loss: 0.4527 - val_accuracy: 0.8052\n",
            "Epoch 78/100\n",
            "20/20 [==============================] - 0s 4ms/step - loss: 0.4200 - accuracy: 0.7964 - val_loss: 0.4530 - val_accuracy: 0.8052\n",
            "Epoch 79/100\n",
            "20/20 [==============================] - 0s 4ms/step - loss: 0.4201 - accuracy: 0.7932 - val_loss: 0.4535 - val_accuracy: 0.7987\n",
            "Epoch 80/100\n",
            "20/20 [==============================] - 0s 5ms/step - loss: 0.4197 - accuracy: 0.7948 - val_loss: 0.4530 - val_accuracy: 0.7987\n",
            "Epoch 81/100\n",
            "20/20 [==============================] - 0s 4ms/step - loss: 0.4199 - accuracy: 0.7883 - val_loss: 0.4518 - val_accuracy: 0.7987\n",
            "Epoch 82/100\n",
            "20/20 [==============================] - 0s 4ms/step - loss: 0.4189 - accuracy: 0.7915 - val_loss: 0.4523 - val_accuracy: 0.8052\n",
            "Epoch 83/100\n",
            "20/20 [==============================] - 0s 4ms/step - loss: 0.4192 - accuracy: 0.7915 - val_loss: 0.4516 - val_accuracy: 0.8052\n",
            "Epoch 84/100\n",
            "20/20 [==============================] - 0s 4ms/step - loss: 0.4185 - accuracy: 0.7948 - val_loss: 0.4520 - val_accuracy: 0.8052\n",
            "Epoch 85/100\n",
            "20/20 [==============================] - 0s 4ms/step - loss: 0.4183 - accuracy: 0.7899 - val_loss: 0.4511 - val_accuracy: 0.8052\n",
            "Epoch 86/100\n",
            "20/20 [==============================] - 0s 4ms/step - loss: 0.4190 - accuracy: 0.7932 - val_loss: 0.4515 - val_accuracy: 0.8052\n",
            "Epoch 87/100\n",
            "20/20 [==============================] - 0s 5ms/step - loss: 0.4173 - accuracy: 0.7964 - val_loss: 0.4525 - val_accuracy: 0.8052\n",
            "Epoch 88/100\n",
            "20/20 [==============================] - 0s 4ms/step - loss: 0.4172 - accuracy: 0.7948 - val_loss: 0.4528 - val_accuracy: 0.7987\n",
            "Epoch 89/100\n",
            "20/20 [==============================] - 0s 4ms/step - loss: 0.4166 - accuracy: 0.7948 - val_loss: 0.4534 - val_accuracy: 0.8052\n",
            "Epoch 90/100\n",
            "20/20 [==============================] - 0s 4ms/step - loss: 0.4168 - accuracy: 0.7997 - val_loss: 0.4524 - val_accuracy: 0.8052\n",
            "Epoch 91/100\n",
            "20/20 [==============================] - 0s 4ms/step - loss: 0.4168 - accuracy: 0.7980 - val_loss: 0.4523 - val_accuracy: 0.8052\n",
            "Epoch 92/100\n",
            "20/20 [==============================] - 0s 4ms/step - loss: 0.4160 - accuracy: 0.7997 - val_loss: 0.4504 - val_accuracy: 0.7987\n",
            "Epoch 93/100\n",
            "20/20 [==============================] - 0s 4ms/step - loss: 0.4155 - accuracy: 0.7980 - val_loss: 0.4510 - val_accuracy: 0.8052\n",
            "Epoch 94/100\n",
            "20/20 [==============================] - 0s 5ms/step - loss: 0.4165 - accuracy: 0.7932 - val_loss: 0.4522 - val_accuracy: 0.8052\n",
            "Epoch 95/100\n",
            "20/20 [==============================] - 0s 4ms/step - loss: 0.4155 - accuracy: 0.8029 - val_loss: 0.4520 - val_accuracy: 0.7987\n",
            "Epoch 96/100\n",
            "20/20 [==============================] - 0s 4ms/step - loss: 0.4146 - accuracy: 0.8029 - val_loss: 0.4521 - val_accuracy: 0.8052\n",
            "Epoch 97/100\n",
            "20/20 [==============================] - 0s 4ms/step - loss: 0.4157 - accuracy: 0.7948 - val_loss: 0.4523 - val_accuracy: 0.7987\n",
            "Epoch 98/100\n",
            "20/20 [==============================] - 0s 4ms/step - loss: 0.4155 - accuracy: 0.7948 - val_loss: 0.4499 - val_accuracy: 0.8052\n",
            "Epoch 99/100\n",
            "20/20 [==============================] - 0s 5ms/step - loss: 0.4149 - accuracy: 0.8029 - val_loss: 0.4505 - val_accuracy: 0.8052\n",
            "Epoch 100/100\n",
            "20/20 [==============================] - 0s 4ms/step - loss: 0.4141 - accuracy: 0.8013 - val_loss: 0.4484 - val_accuracy: 0.7987\n"
          ]
        },
        {
          "output_type": "execute_result",
          "data": {
            "text/plain": [
              "<keras.src.callbacks.History at 0x7a0df76bb6a0>"
            ]
          },
          "metadata": {},
          "execution_count": 19
        }
      ]
    },
    {
      "cell_type": "code",
      "source": [
        "#1. How to select appropriate optimizer\n",
        "#2. No of nodes in a layer\n",
        "#3. How to select no of hidden layers"
      ],
      "metadata": {
        "id": "nDkYpLY5J3re"
      },
      "execution_count": null,
      "outputs": []
    },
    {
      "cell_type": "code",
      "source": [
        "pip install -U keras-tuner"
      ],
      "metadata": {
        "colab": {
          "base_uri": "https://localhost:8080/"
        },
        "id": "h_4c1e9sKvMf",
        "outputId": "ed84ff03-7159-4a1e-e512-59feea36bd99"
      },
      "execution_count": null,
      "outputs": [
        {
          "output_type": "stream",
          "name": "stdout",
          "text": [
            "Collecting keras-tuner\n",
            "  Downloading keras_tuner-1.4.7-py3-none-any.whl (129 kB)\n",
            "\u001b[?25l     \u001b[90m━━━━━━━━━━━━━━━━━━━━━━━━━━━━━━━━━━━━━━━━\u001b[0m \u001b[32m0.0/129.1 kB\u001b[0m \u001b[31m?\u001b[0m eta \u001b[36m-:--:--\u001b[0m\r\u001b[2K     \u001b[91m━━━━━━━━━━━━━━━━━━━━━━━━━━━━━━━━━━━━━━\u001b[0m\u001b[90m╺\u001b[0m\u001b[90m━\u001b[0m \u001b[32m122.9/129.1 kB\u001b[0m \u001b[31m4.2 MB/s\u001b[0m eta \u001b[36m0:00:01\u001b[0m\r\u001b[2K     \u001b[90m━━━━━━━━━━━━━━━━━━━━━━━━━━━━━━━━━━━━━━━━\u001b[0m \u001b[32m129.1/129.1 kB\u001b[0m \u001b[31m3.3 MB/s\u001b[0m eta \u001b[36m0:00:00\u001b[0m\n",
            "\u001b[?25hRequirement already satisfied: keras in /usr/local/lib/python3.10/dist-packages (from keras-tuner) (2.15.0)\n",
            "Requirement already satisfied: packaging in /usr/local/lib/python3.10/dist-packages (from keras-tuner) (24.0)\n",
            "Requirement already satisfied: requests in /usr/local/lib/python3.10/dist-packages (from keras-tuner) (2.31.0)\n",
            "Collecting kt-legacy (from keras-tuner)\n",
            "  Downloading kt_legacy-1.0.5-py3-none-any.whl (9.6 kB)\n",
            "Requirement already satisfied: charset-normalizer<4,>=2 in /usr/local/lib/python3.10/dist-packages (from requests->keras-tuner) (3.3.2)\n",
            "Requirement already satisfied: idna<4,>=2.5 in /usr/local/lib/python3.10/dist-packages (from requests->keras-tuner) (3.7)\n",
            "Requirement already satisfied: urllib3<3,>=1.21.1 in /usr/local/lib/python3.10/dist-packages (from requests->keras-tuner) (2.0.7)\n",
            "Requirement already satisfied: certifi>=2017.4.17 in /usr/local/lib/python3.10/dist-packages (from requests->keras-tuner) (2024.2.2)\n",
            "Installing collected packages: kt-legacy, keras-tuner\n",
            "Successfully installed keras-tuner-1.4.7 kt-legacy-1.0.5\n"
          ]
        }
      ]
    },
    {
      "cell_type": "code",
      "source": [
        "import kerastuner as kt"
      ],
      "metadata": {
        "colab": {
          "base_uri": "https://localhost:8080/"
        },
        "id": "RuAuTFNuK4qo",
        "outputId": "3b654e36-bb1e-4a99-ba5d-9642138df3c1"
      },
      "execution_count": null,
      "outputs": [
        {
          "output_type": "stream",
          "name": "stderr",
          "text": [
            "<ipython-input-21-5fd8096cdee5>:1: DeprecationWarning: `import kerastuner` is deprecated, please use `import keras_tuner`.\n",
            "  import kerastuner as kt\n"
          ]
        }
      ]
    },
    {
      "cell_type": "code",
      "source": [
        "def build_model(hp):\n",
        "\n",
        "  model = Sequential()\n",
        "  model.add(Dense(32,activation='relu',input_dim = 8))\n",
        "  model.add(Dense(1,activation='sigmoid'))\n",
        "\n",
        "  optimizer=hp.Choice('optimizer',values = ['adam','sgd','rmsprop','adadelta'])\n",
        "\n",
        "  model.compile(optimizer=optimizer,loss = 'binary_crossentropy',metrics =['accuracy'])\n",
        "\n",
        "  return model"
      ],
      "metadata": {
        "id": "uOQ9mAI9K_2X"
      },
      "execution_count": null,
      "outputs": []
    },
    {
      "cell_type": "code",
      "source": [
        "tuner = kt.RandomSearch(build_model,objective='val_accuracy',max_trials=5)"
      ],
      "metadata": {
        "colab": {
          "base_uri": "https://localhost:8080/"
        },
        "id": "zlwFCJfWMVBw",
        "outputId": "2f0f855c-fc5b-46cc-b2c8-8dd5c1bb8e48"
      },
      "execution_count": null,
      "outputs": [
        {
          "output_type": "stream",
          "name": "stdout",
          "text": [
            "Reloading Tuner from ./untitled_project/tuner0.json\n"
          ]
        }
      ]
    },
    {
      "cell_type": "code",
      "source": [
        "tuner.search(X_train,y_train,epochs = 5,validation_data = (X_test,y_test))"
      ],
      "metadata": {
        "id": "u8YanFVaMnLB"
      },
      "execution_count": null,
      "outputs": []
    },
    {
      "cell_type": "code",
      "source": [
        "tuner.get_best_hyperparameters()[0].values"
      ],
      "metadata": {
        "colab": {
          "base_uri": "https://localhost:8080/"
        },
        "id": "CS8u7tSaM21c",
        "outputId": "069da4fb-24c0-4ec7-a815-a381fefd5e2c"
      },
      "execution_count": null,
      "outputs": [
        {
          "output_type": "execute_result",
          "data": {
            "text/plain": [
              "{'optimizer': 'adam'}"
            ]
          },
          "metadata": {},
          "execution_count": 28
        }
      ]
    },
    {
      "cell_type": "code",
      "source": [
        "model = tuner.get_best_models(num_models=1)[0]"
      ],
      "metadata": {
        "id": "w6Z3jiRqNOr0"
      },
      "execution_count": null,
      "outputs": []
    },
    {
      "cell_type": "code",
      "source": [
        "model.summary()"
      ],
      "metadata": {
        "colab": {
          "base_uri": "https://localhost:8080/"
        },
        "id": "hB-ZLeQdNWHY",
        "outputId": "113447ce-b267-4ec7-bc47-ab4516d9a5b0"
      },
      "execution_count": null,
      "outputs": [
        {
          "output_type": "stream",
          "name": "stdout",
          "text": [
            "Model: \"sequential\"\n",
            "_________________________________________________________________\n",
            " Layer (type)                Output Shape              Param #   \n",
            "=================================================================\n",
            " dense (Dense)               (None, 32)                288       \n",
            "                                                                 \n",
            " dense_1 (Dense)             (None, 1)                 33        \n",
            "                                                                 \n",
            "=================================================================\n",
            "Total params: 321 (1.25 KB)\n",
            "Trainable params: 321 (1.25 KB)\n",
            "Non-trainable params: 0 (0.00 Byte)\n",
            "_________________________________________________________________\n"
          ]
        }
      ]
    },
    {
      "cell_type": "code",
      "source": [
        "model.fit(X_train,y_train,batch_size=32,epochs = 100,initial_epoch=6,validation_data=(X_test,y_test))"
      ],
      "metadata": {
        "colab": {
          "base_uri": "https://localhost:8080/"
        },
        "id": "0vEXTePeNYA2",
        "outputId": "821169d3-0db0-4a68-82ee-61046f798459"
      },
      "execution_count": null,
      "outputs": [
        {
          "output_type": "stream",
          "name": "stdout",
          "text": [
            "Epoch 7/100\n",
            "20/20 [==============================] - 1s 13ms/step - loss: 0.5537 - accuracy: 0.7280 - val_loss: 0.5218 - val_accuracy: 0.7403\n",
            "Epoch 8/100\n",
            "20/20 [==============================] - 0s 4ms/step - loss: 0.5355 - accuracy: 0.7394 - val_loss: 0.5083 - val_accuracy: 0.7727\n",
            "Epoch 9/100\n",
            "20/20 [==============================] - 0s 4ms/step - loss: 0.5216 - accuracy: 0.7508 - val_loss: 0.4988 - val_accuracy: 0.7727\n",
            "Epoch 10/100\n",
            "20/20 [==============================] - 0s 4ms/step - loss: 0.5100 - accuracy: 0.7573 - val_loss: 0.4928 - val_accuracy: 0.7922\n",
            "Epoch 11/100\n",
            "20/20 [==============================] - 0s 4ms/step - loss: 0.5005 - accuracy: 0.7752 - val_loss: 0.4855 - val_accuracy: 0.7987\n",
            "Epoch 12/100\n",
            "20/20 [==============================] - 0s 4ms/step - loss: 0.4918 - accuracy: 0.7785 - val_loss: 0.4808 - val_accuracy: 0.8052\n",
            "Epoch 13/100\n",
            "20/20 [==============================] - 0s 5ms/step - loss: 0.4854 - accuracy: 0.7736 - val_loss: 0.4784 - val_accuracy: 0.8182\n",
            "Epoch 14/100\n",
            "20/20 [==============================] - 0s 4ms/step - loss: 0.4794 - accuracy: 0.7720 - val_loss: 0.4759 - val_accuracy: 0.8117\n",
            "Epoch 15/100\n",
            "20/20 [==============================] - 0s 4ms/step - loss: 0.4748 - accuracy: 0.7801 - val_loss: 0.4734 - val_accuracy: 0.8117\n",
            "Epoch 16/100\n",
            "20/20 [==============================] - 0s 7ms/step - loss: 0.4706 - accuracy: 0.7801 - val_loss: 0.4717 - val_accuracy: 0.8052\n",
            "Epoch 17/100\n",
            "20/20 [==============================] - 0s 6ms/step - loss: 0.4671 - accuracy: 0.7801 - val_loss: 0.4706 - val_accuracy: 0.8052\n",
            "Epoch 18/100\n",
            "20/20 [==============================] - 0s 7ms/step - loss: 0.4643 - accuracy: 0.7834 - val_loss: 0.4686 - val_accuracy: 0.7922\n",
            "Epoch 19/100\n",
            "20/20 [==============================] - 0s 8ms/step - loss: 0.4613 - accuracy: 0.7818 - val_loss: 0.4693 - val_accuracy: 0.7987\n",
            "Epoch 20/100\n",
            "20/20 [==============================] - 0s 5ms/step - loss: 0.4589 - accuracy: 0.7785 - val_loss: 0.4693 - val_accuracy: 0.8052\n",
            "Epoch 21/100\n",
            "20/20 [==============================] - 0s 4ms/step - loss: 0.4565 - accuracy: 0.7818 - val_loss: 0.4683 - val_accuracy: 0.8052\n",
            "Epoch 22/100\n",
            "20/20 [==============================] - 0s 4ms/step - loss: 0.4549 - accuracy: 0.7818 - val_loss: 0.4688 - val_accuracy: 0.8052\n",
            "Epoch 23/100\n",
            "20/20 [==============================] - 0s 4ms/step - loss: 0.4533 - accuracy: 0.7850 - val_loss: 0.4688 - val_accuracy: 0.8182\n",
            "Epoch 24/100\n",
            "20/20 [==============================] - 0s 4ms/step - loss: 0.4523 - accuracy: 0.7866 - val_loss: 0.4673 - val_accuracy: 0.7987\n",
            "Epoch 25/100\n",
            "20/20 [==============================] - 0s 4ms/step - loss: 0.4508 - accuracy: 0.7850 - val_loss: 0.4679 - val_accuracy: 0.7987\n",
            "Epoch 26/100\n",
            "20/20 [==============================] - 0s 4ms/step - loss: 0.4493 - accuracy: 0.7866 - val_loss: 0.4684 - val_accuracy: 0.8182\n",
            "Epoch 27/100\n",
            "20/20 [==============================] - 0s 4ms/step - loss: 0.4484 - accuracy: 0.7834 - val_loss: 0.4686 - val_accuracy: 0.8182\n",
            "Epoch 28/100\n",
            "20/20 [==============================] - 0s 4ms/step - loss: 0.4473 - accuracy: 0.7834 - val_loss: 0.4692 - val_accuracy: 0.8182\n",
            "Epoch 29/100\n",
            "20/20 [==============================] - 0s 4ms/step - loss: 0.4464 - accuracy: 0.7818 - val_loss: 0.4697 - val_accuracy: 0.8247\n",
            "Epoch 30/100\n",
            "20/20 [==============================] - 0s 3ms/step - loss: 0.4459 - accuracy: 0.7818 - val_loss: 0.4682 - val_accuracy: 0.8117\n",
            "Epoch 31/100\n",
            "20/20 [==============================] - 0s 4ms/step - loss: 0.4453 - accuracy: 0.7834 - val_loss: 0.4675 - val_accuracy: 0.7987\n",
            "Epoch 32/100\n",
            "20/20 [==============================] - 0s 4ms/step - loss: 0.4446 - accuracy: 0.7850 - val_loss: 0.4685 - val_accuracy: 0.8052\n",
            "Epoch 33/100\n",
            "20/20 [==============================] - 0s 4ms/step - loss: 0.4434 - accuracy: 0.7850 - val_loss: 0.4670 - val_accuracy: 0.7987\n",
            "Epoch 34/100\n",
            "20/20 [==============================] - 0s 3ms/step - loss: 0.4431 - accuracy: 0.7850 - val_loss: 0.4664 - val_accuracy: 0.8052\n",
            "Epoch 35/100\n",
            "20/20 [==============================] - 0s 4ms/step - loss: 0.4423 - accuracy: 0.7785 - val_loss: 0.4665 - val_accuracy: 0.7987\n",
            "Epoch 36/100\n",
            "20/20 [==============================] - 0s 3ms/step - loss: 0.4418 - accuracy: 0.7834 - val_loss: 0.4670 - val_accuracy: 0.8052\n",
            "Epoch 37/100\n",
            "20/20 [==============================] - 0s 4ms/step - loss: 0.4412 - accuracy: 0.7818 - val_loss: 0.4658 - val_accuracy: 0.7987\n",
            "Epoch 38/100\n",
            "20/20 [==============================] - 0s 4ms/step - loss: 0.4407 - accuracy: 0.7834 - val_loss: 0.4663 - val_accuracy: 0.8052\n",
            "Epoch 39/100\n",
            "20/20 [==============================] - 0s 4ms/step - loss: 0.4402 - accuracy: 0.7818 - val_loss: 0.4664 - val_accuracy: 0.8117\n",
            "Epoch 40/100\n",
            "20/20 [==============================] - 0s 4ms/step - loss: 0.4396 - accuracy: 0.7834 - val_loss: 0.4667 - val_accuracy: 0.8052\n",
            "Epoch 41/100\n",
            "20/20 [==============================] - 0s 4ms/step - loss: 0.4394 - accuracy: 0.7850 - val_loss: 0.4658 - val_accuracy: 0.8117\n",
            "Epoch 42/100\n",
            "20/20 [==============================] - 0s 4ms/step - loss: 0.4390 - accuracy: 0.7883 - val_loss: 0.4681 - val_accuracy: 0.8052\n",
            "Epoch 43/100\n",
            "20/20 [==============================] - 0s 4ms/step - loss: 0.4380 - accuracy: 0.7834 - val_loss: 0.4674 - val_accuracy: 0.8052\n",
            "Epoch 44/100\n",
            "20/20 [==============================] - 0s 4ms/step - loss: 0.4377 - accuracy: 0.7850 - val_loss: 0.4674 - val_accuracy: 0.8052\n",
            "Epoch 45/100\n",
            "20/20 [==============================] - 0s 5ms/step - loss: 0.4372 - accuracy: 0.7850 - val_loss: 0.4676 - val_accuracy: 0.8117\n",
            "Epoch 46/100\n",
            "20/20 [==============================] - 0s 3ms/step - loss: 0.4367 - accuracy: 0.7883 - val_loss: 0.4660 - val_accuracy: 0.7987\n",
            "Epoch 47/100\n",
            "20/20 [==============================] - 0s 4ms/step - loss: 0.4364 - accuracy: 0.7850 - val_loss: 0.4655 - val_accuracy: 0.7987\n",
            "Epoch 48/100\n",
            "20/20 [==============================] - 0s 3ms/step - loss: 0.4353 - accuracy: 0.7899 - val_loss: 0.4651 - val_accuracy: 0.8052\n",
            "Epoch 49/100\n",
            "20/20 [==============================] - 0s 3ms/step - loss: 0.4355 - accuracy: 0.7850 - val_loss: 0.4655 - val_accuracy: 0.8052\n",
            "Epoch 50/100\n",
            "20/20 [==============================] - 0s 4ms/step - loss: 0.4347 - accuracy: 0.7834 - val_loss: 0.4656 - val_accuracy: 0.8052\n",
            "Epoch 51/100\n",
            "20/20 [==============================] - 0s 4ms/step - loss: 0.4343 - accuracy: 0.7866 - val_loss: 0.4646 - val_accuracy: 0.8052\n",
            "Epoch 52/100\n",
            "20/20 [==============================] - 0s 4ms/step - loss: 0.4338 - accuracy: 0.7866 - val_loss: 0.4635 - val_accuracy: 0.8052\n",
            "Epoch 53/100\n",
            "20/20 [==============================] - 0s 4ms/step - loss: 0.4335 - accuracy: 0.7899 - val_loss: 0.4627 - val_accuracy: 0.8052\n",
            "Epoch 54/100\n",
            "20/20 [==============================] - 0s 5ms/step - loss: 0.4328 - accuracy: 0.7866 - val_loss: 0.4632 - val_accuracy: 0.7987\n",
            "Epoch 55/100\n",
            "20/20 [==============================] - 0s 3ms/step - loss: 0.4325 - accuracy: 0.7850 - val_loss: 0.4629 - val_accuracy: 0.7987\n",
            "Epoch 56/100\n",
            "20/20 [==============================] - 0s 4ms/step - loss: 0.4322 - accuracy: 0.7883 - val_loss: 0.4630 - val_accuracy: 0.8117\n",
            "Epoch 57/100\n",
            "20/20 [==============================] - 0s 5ms/step - loss: 0.4316 - accuracy: 0.7899 - val_loss: 0.4627 - val_accuracy: 0.8052\n",
            "Epoch 58/100\n",
            "20/20 [==============================] - 0s 4ms/step - loss: 0.4313 - accuracy: 0.7866 - val_loss: 0.4639 - val_accuracy: 0.8117\n",
            "Epoch 59/100\n",
            "20/20 [==============================] - 0s 4ms/step - loss: 0.4307 - accuracy: 0.7899 - val_loss: 0.4629 - val_accuracy: 0.8117\n",
            "Epoch 60/100\n",
            "20/20 [==============================] - 0s 4ms/step - loss: 0.4308 - accuracy: 0.7899 - val_loss: 0.4643 - val_accuracy: 0.8117\n",
            "Epoch 61/100\n",
            "20/20 [==============================] - 0s 4ms/step - loss: 0.4306 - accuracy: 0.7883 - val_loss: 0.4626 - val_accuracy: 0.7922\n",
            "Epoch 62/100\n",
            "20/20 [==============================] - 0s 4ms/step - loss: 0.4314 - accuracy: 0.7883 - val_loss: 0.4628 - val_accuracy: 0.8117\n",
            "Epoch 63/100\n",
            "20/20 [==============================] - 0s 4ms/step - loss: 0.4292 - accuracy: 0.7915 - val_loss: 0.4616 - val_accuracy: 0.7987\n",
            "Epoch 64/100\n",
            "20/20 [==============================] - 0s 6ms/step - loss: 0.4296 - accuracy: 0.7883 - val_loss: 0.4617 - val_accuracy: 0.7987\n",
            "Epoch 65/100\n",
            "20/20 [==============================] - 0s 6ms/step - loss: 0.4290 - accuracy: 0.7883 - val_loss: 0.4610 - val_accuracy: 0.7987\n",
            "Epoch 66/100\n",
            "20/20 [==============================] - 0s 6ms/step - loss: 0.4286 - accuracy: 0.7915 - val_loss: 0.4622 - val_accuracy: 0.8052\n",
            "Epoch 67/100\n",
            "20/20 [==============================] - 0s 6ms/step - loss: 0.4280 - accuracy: 0.7883 - val_loss: 0.4619 - val_accuracy: 0.7987\n",
            "Epoch 68/100\n",
            "20/20 [==============================] - 0s 5ms/step - loss: 0.4278 - accuracy: 0.7899 - val_loss: 0.4624 - val_accuracy: 0.8052\n",
            "Epoch 69/100\n",
            "20/20 [==============================] - 0s 6ms/step - loss: 0.4272 - accuracy: 0.7948 - val_loss: 0.4616 - val_accuracy: 0.8117\n",
            "Epoch 70/100\n",
            "20/20 [==============================] - 0s 5ms/step - loss: 0.4265 - accuracy: 0.7932 - val_loss: 0.4602 - val_accuracy: 0.8117\n",
            "Epoch 71/100\n",
            "20/20 [==============================] - 0s 5ms/step - loss: 0.4263 - accuracy: 0.7964 - val_loss: 0.4605 - val_accuracy: 0.8117\n",
            "Epoch 72/100\n",
            "20/20 [==============================] - 0s 6ms/step - loss: 0.4258 - accuracy: 0.7964 - val_loss: 0.4591 - val_accuracy: 0.8182\n",
            "Epoch 73/100\n",
            "20/20 [==============================] - 0s 5ms/step - loss: 0.4255 - accuracy: 0.7948 - val_loss: 0.4603 - val_accuracy: 0.8117\n",
            "Epoch 74/100\n",
            "20/20 [==============================] - 0s 6ms/step - loss: 0.4251 - accuracy: 0.7964 - val_loss: 0.4596 - val_accuracy: 0.8117\n",
            "Epoch 75/100\n",
            "20/20 [==============================] - 0s 5ms/step - loss: 0.4250 - accuracy: 0.7964 - val_loss: 0.4606 - val_accuracy: 0.8182\n",
            "Epoch 76/100\n",
            "20/20 [==============================] - 0s 7ms/step - loss: 0.4244 - accuracy: 0.7964 - val_loss: 0.4599 - val_accuracy: 0.8117\n",
            "Epoch 77/100\n",
            "20/20 [==============================] - 0s 6ms/step - loss: 0.4244 - accuracy: 0.7964 - val_loss: 0.4604 - val_accuracy: 0.8117\n",
            "Epoch 78/100\n",
            "20/20 [==============================] - 0s 6ms/step - loss: 0.4240 - accuracy: 0.7980 - val_loss: 0.4586 - val_accuracy: 0.8052\n",
            "Epoch 79/100\n",
            "20/20 [==============================] - 0s 6ms/step - loss: 0.4237 - accuracy: 0.7997 - val_loss: 0.4587 - val_accuracy: 0.8117\n",
            "Epoch 80/100\n",
            "20/20 [==============================] - 0s 6ms/step - loss: 0.4236 - accuracy: 0.7980 - val_loss: 0.4570 - val_accuracy: 0.8052\n",
            "Epoch 81/100\n",
            "20/20 [==============================] - 0s 6ms/step - loss: 0.4228 - accuracy: 0.7964 - val_loss: 0.4566 - val_accuracy: 0.8117\n",
            "Epoch 82/100\n",
            "20/20 [==============================] - 0s 6ms/step - loss: 0.4223 - accuracy: 0.7948 - val_loss: 0.4567 - val_accuracy: 0.8182\n",
            "Epoch 83/100\n",
            "20/20 [==============================] - 0s 6ms/step - loss: 0.4222 - accuracy: 0.7980 - val_loss: 0.4568 - val_accuracy: 0.8182\n",
            "Epoch 84/100\n",
            "20/20 [==============================] - 0s 9ms/step - loss: 0.4217 - accuracy: 0.7932 - val_loss: 0.4578 - val_accuracy: 0.8117\n",
            "Epoch 85/100\n",
            "20/20 [==============================] - 0s 6ms/step - loss: 0.4213 - accuracy: 0.7964 - val_loss: 0.4570 - val_accuracy: 0.8117\n",
            "Epoch 86/100\n",
            "20/20 [==============================] - 0s 6ms/step - loss: 0.4212 - accuracy: 0.7915 - val_loss: 0.4563 - val_accuracy: 0.8182\n",
            "Epoch 87/100\n",
            "20/20 [==============================] - 0s 5ms/step - loss: 0.4206 - accuracy: 0.7964 - val_loss: 0.4572 - val_accuracy: 0.8182\n",
            "Epoch 88/100\n",
            "20/20 [==============================] - 0s 6ms/step - loss: 0.4202 - accuracy: 0.7980 - val_loss: 0.4560 - val_accuracy: 0.8182\n",
            "Epoch 89/100\n",
            "20/20 [==============================] - 0s 7ms/step - loss: 0.4201 - accuracy: 0.7980 - val_loss: 0.4568 - val_accuracy: 0.8182\n",
            "Epoch 90/100\n",
            "20/20 [==============================] - 0s 6ms/step - loss: 0.4198 - accuracy: 0.7980 - val_loss: 0.4577 - val_accuracy: 0.8117\n",
            "Epoch 91/100\n",
            "20/20 [==============================] - 0s 7ms/step - loss: 0.4196 - accuracy: 0.7997 - val_loss: 0.4569 - val_accuracy: 0.8117\n",
            "Epoch 92/100\n",
            "20/20 [==============================] - 0s 6ms/step - loss: 0.4194 - accuracy: 0.8029 - val_loss: 0.4565 - val_accuracy: 0.8052\n",
            "Epoch 93/100\n",
            "20/20 [==============================] - 0s 4ms/step - loss: 0.4187 - accuracy: 0.7997 - val_loss: 0.4568 - val_accuracy: 0.8117\n",
            "Epoch 94/100\n",
            "20/20 [==============================] - 0s 4ms/step - loss: 0.4189 - accuracy: 0.8029 - val_loss: 0.4553 - val_accuracy: 0.8052\n",
            "Epoch 95/100\n",
            "20/20 [==============================] - 0s 4ms/step - loss: 0.4178 - accuracy: 0.8013 - val_loss: 0.4564 - val_accuracy: 0.8052\n",
            "Epoch 96/100\n",
            "20/20 [==============================] - 0s 4ms/step - loss: 0.4187 - accuracy: 0.7964 - val_loss: 0.4563 - val_accuracy: 0.8052\n",
            "Epoch 97/100\n",
            "20/20 [==============================] - 0s 4ms/step - loss: 0.4175 - accuracy: 0.7980 - val_loss: 0.4561 - val_accuracy: 0.8182\n",
            "Epoch 98/100\n",
            "20/20 [==============================] - 0s 4ms/step - loss: 0.4174 - accuracy: 0.7980 - val_loss: 0.4567 - val_accuracy: 0.8117\n",
            "Epoch 99/100\n",
            "20/20 [==============================] - 0s 4ms/step - loss: 0.4172 - accuracy: 0.7948 - val_loss: 0.4566 - val_accuracy: 0.8052\n",
            "Epoch 100/100\n",
            "20/20 [==============================] - 0s 4ms/step - loss: 0.4163 - accuracy: 0.8013 - val_loss: 0.4562 - val_accuracy: 0.8052\n"
          ]
        },
        {
          "output_type": "execute_result",
          "data": {
            "text/plain": [
              "<keras.src.callbacks.History at 0x7a0e04944490>"
            ]
          },
          "metadata": {},
          "execution_count": 31
        }
      ]
    },
    {
      "cell_type": "code",
      "source": [
        "def build_model(hp):\n",
        "  model = Sequential()\n",
        "\n",
        "  units = hp.Int('units',min_value = 8,max_value = 128,step= 8)\n",
        "\n",
        "\n",
        "  model.add(Dense(units=units,activation ='relu',input_dim =8))\n",
        "  model.add(Dense(activation='sigmoid'))\n",
        "\n",
        "  model.compile(optimizer='rmsprop',loss='binary_crossentropy',metrics = ['accuracy'])\n",
        "\n",
        "  return model"
      ],
      "metadata": {
        "id": "fB-kT84XNvBu"
      },
      "execution_count": null,
      "outputs": []
    },
    {
      "cell_type": "code",
      "source": [
        "tuner= kt.RandomSearch(build_model,objective = 'val_accuracy',max_trials=5)"
      ],
      "metadata": {
        "colab": {
          "base_uri": "https://localhost:8080/"
        },
        "id": "iZ2Tfc0fOg4u",
        "outputId": "a12adeee-ee4d-492a-8c39-ed933feaead4"
      },
      "execution_count": null,
      "outputs": [
        {
          "output_type": "stream",
          "name": "stdout",
          "text": [
            "Reloading Tuner from ./untitled_project/tuner0.json\n"
          ]
        }
      ]
    },
    {
      "cell_type": "code",
      "source": [
        "tuner.search(X_train,y_train,epochs = 5,validation_data=(X_test,y_test))"
      ],
      "metadata": {
        "id": "JutJXifSO-EJ"
      },
      "execution_count": null,
      "outputs": []
    },
    {
      "cell_type": "code",
      "source": [
        "tuner.get_best_hyperparameters()[0].values"
      ],
      "metadata": {
        "colab": {
          "base_uri": "https://localhost:8080/"
        },
        "id": "LmtMHx-_PI6-",
        "outputId": "d1b5250f-f3dd-4b14-cd39-8374b39984f4"
      },
      "execution_count": null,
      "outputs": [
        {
          "output_type": "execute_result",
          "data": {
            "text/plain": [
              "{'optimizer': 'adam'}"
            ]
          },
          "metadata": {},
          "execution_count": 51
        }
      ]
    },
    {
      "cell_type": "code",
      "source": [
        "def build_model(hp):\n",
        "\n",
        "  model = Sequential()\n",
        "\n",
        "  model.add(Dense(72,activation = 'relu',input_dim = 8))\n",
        "\n",
        "  for i in range(hp.Int('num_layers',min_value=1,max_value=10)):\n",
        "\n",
        "    model.add(Dense(72,activation='relu'))\n",
        "\n",
        "  model.add(Dense(1,activation='sigmoid'))\n",
        "\n",
        "  model.compile(optimizer = 'rmsprop',loss='binary_crossentropy',metrics =['accuracy'])\n",
        "\n",
        "\n",
        "  return model\n"
      ],
      "metadata": {
        "id": "E5D4hvcXQWJu"
      },
      "execution_count": null,
      "outputs": []
    },
    {
      "cell_type": "code",
      "source": [
        "tuner = kt.RandomSearch(build_model,objective = 'val_accuracy',max_trials=3,directory = 'mydir',project_name = 'jay')"
      ],
      "metadata": {
        "id": "Q4w0aVgjSRQF"
      },
      "execution_count": null,
      "outputs": []
    },
    {
      "cell_type": "code",
      "source": [
        "tuner.search(X_train,y_train,epochs = 5,validation_data=(X_test,y_test))"
      ],
      "metadata": {
        "colab": {
          "base_uri": "https://localhost:8080/"
        },
        "id": "f-oWA9kzSjmA",
        "outputId": "92fa8466-5a22-4315-d4b2-d155e3622352"
      },
      "execution_count": null,
      "outputs": [
        {
          "output_type": "stream",
          "name": "stdout",
          "text": [
            "Trial 3 Complete [00h 00m 03s]\n",
            "val_accuracy: 0.7857142686843872\n",
            "\n",
            "Best val_accuracy So Far: 0.8051947951316833\n",
            "Total elapsed time: 00h 00m 09s\n"
          ]
        }
      ]
    },
    {
      "cell_type": "code",
      "source": [
        "tuner.get_best_hyperparameters()[0].values"
      ],
      "metadata": {
        "colab": {
          "base_uri": "https://localhost:8080/"
        },
        "id": "FwpBo_UoS20A",
        "outputId": "d4a39120-9641-4a39-a552-092d4e40f410"
      },
      "execution_count": null,
      "outputs": [
        {
          "output_type": "execute_result",
          "data": {
            "text/plain": [
              "{'num_layers': 8}"
            ]
          },
          "metadata": {},
          "execution_count": 63
        }
      ]
    },
    {
      "cell_type": "code",
      "source": [
        "model = tuner.get_best_models(num_models=1)[0]"
      ],
      "metadata": {
        "id": "0p9OMMgfS_eV"
      },
      "execution_count": null,
      "outputs": []
    },
    {
      "cell_type": "code",
      "source": [
        "model.fit(X_train,y_train,epochs = 100,initial_epoch=6,validation_data=(X_test,y_test))"
      ],
      "metadata": {
        "colab": {
          "base_uri": "https://localhost:8080/"
        },
        "id": "IX6XWTWxTMwk",
        "outputId": "3b94ebf3-1659-469b-c883-a58137efb867"
      },
      "execution_count": null,
      "outputs": [
        {
          "output_type": "stream",
          "name": "stdout",
          "text": [
            "Epoch 7/100\n",
            "20/20 [==============================] - 0s 7ms/step - loss: 0.0485 - accuracy: 0.9886 - val_loss: 2.1190 - val_accuracy: 0.7338\n",
            "Epoch 8/100\n",
            "20/20 [==============================] - 0s 6ms/step - loss: 0.0138 - accuracy: 0.9951 - val_loss: 2.0613 - val_accuracy: 0.7208\n",
            "Epoch 9/100\n",
            "20/20 [==============================] - 0s 6ms/step - loss: 8.9238e-04 - accuracy: 1.0000 - val_loss: 2.4332 - val_accuracy: 0.7338\n",
            "Epoch 10/100\n",
            "20/20 [==============================] - 0s 6ms/step - loss: 0.0728 - accuracy: 0.9805 - val_loss: 1.9654 - val_accuracy: 0.7208\n",
            "Epoch 11/100\n",
            "20/20 [==============================] - 0s 5ms/step - loss: 0.0271 - accuracy: 0.9919 - val_loss: 2.0146 - val_accuracy: 0.6883\n",
            "Epoch 12/100\n",
            "20/20 [==============================] - 0s 5ms/step - loss: 0.0276 - accuracy: 0.9919 - val_loss: 2.2261 - val_accuracy: 0.6948\n",
            "Epoch 13/100\n",
            "20/20 [==============================] - 0s 6ms/step - loss: 0.0342 - accuracy: 0.9870 - val_loss: 2.1644 - val_accuracy: 0.7468\n",
            "Epoch 14/100\n",
            "20/20 [==============================] - 0s 6ms/step - loss: 0.0114 - accuracy: 0.9919 - val_loss: 2.2598 - val_accuracy: 0.7013\n",
            "Epoch 15/100\n",
            "20/20 [==============================] - 0s 6ms/step - loss: 0.0157 - accuracy: 0.9951 - val_loss: 2.0568 - val_accuracy: 0.7078\n",
            "Epoch 16/100\n",
            "20/20 [==============================] - 0s 5ms/step - loss: 0.0348 - accuracy: 0.9886 - val_loss: 2.2006 - val_accuracy: 0.7078\n",
            "Epoch 17/100\n",
            "20/20 [==============================] - 0s 5ms/step - loss: 0.0015 - accuracy: 1.0000 - val_loss: 2.3608 - val_accuracy: 0.7143\n",
            "Epoch 18/100\n",
            "20/20 [==============================] - 0s 6ms/step - loss: 5.6230e-04 - accuracy: 1.0000 - val_loss: 2.7491 - val_accuracy: 0.7143\n",
            "Epoch 19/100\n",
            "20/20 [==============================] - 0s 5ms/step - loss: 0.0621 - accuracy: 0.9902 - val_loss: 2.2036 - val_accuracy: 0.6948\n",
            "Epoch 20/100\n",
            "20/20 [==============================] - 0s 6ms/step - loss: 0.0200 - accuracy: 0.9919 - val_loss: 2.3659 - val_accuracy: 0.7208\n",
            "Epoch 21/100\n",
            "20/20 [==============================] - 0s 6ms/step - loss: 0.0508 - accuracy: 0.9805 - val_loss: 2.0742 - val_accuracy: 0.6688\n",
            "Epoch 22/100\n",
            "20/20 [==============================] - 0s 5ms/step - loss: 0.0034 - accuracy: 0.9984 - val_loss: 2.4633 - val_accuracy: 0.7013\n",
            "Epoch 23/100\n",
            "20/20 [==============================] - 0s 5ms/step - loss: 4.2047e-04 - accuracy: 1.0000 - val_loss: 2.6542 - val_accuracy: 0.6948\n",
            "Epoch 24/100\n",
            "20/20 [==============================] - 0s 5ms/step - loss: 1.5576e-04 - accuracy: 1.0000 - val_loss: 2.8723 - val_accuracy: 0.7013\n",
            "Epoch 25/100\n",
            "20/20 [==============================] - 0s 5ms/step - loss: 7.7149e-05 - accuracy: 1.0000 - val_loss: 3.0536 - val_accuracy: 0.7013\n",
            "Epoch 26/100\n",
            "20/20 [==============================] - 0s 6ms/step - loss: 4.0897e-05 - accuracy: 1.0000 - val_loss: 3.1766 - val_accuracy: 0.6948\n",
            "Epoch 27/100\n",
            "20/20 [==============================] - 0s 4ms/step - loss: 2.6574e-05 - accuracy: 1.0000 - val_loss: 3.3243 - val_accuracy: 0.6948\n",
            "Epoch 28/100\n",
            "20/20 [==============================] - 0s 5ms/step - loss: 1.9782e-05 - accuracy: 1.0000 - val_loss: 3.4072 - val_accuracy: 0.6883\n",
            "Epoch 29/100\n",
            "20/20 [==============================] - 0s 5ms/step - loss: 1.0581e-05 - accuracy: 1.0000 - val_loss: 3.4587 - val_accuracy: 0.6948\n",
            "Epoch 30/100\n",
            "20/20 [==============================] - 0s 5ms/step - loss: 7.7478e-06 - accuracy: 1.0000 - val_loss: 3.5185 - val_accuracy: 0.7013\n",
            "Epoch 31/100\n",
            "20/20 [==============================] - 0s 5ms/step - loss: 6.2572e-06 - accuracy: 1.0000 - val_loss: 3.5611 - val_accuracy: 0.6948\n",
            "Epoch 32/100\n",
            "20/20 [==============================] - 0s 5ms/step - loss: 5.3867e-06 - accuracy: 1.0000 - val_loss: 3.5981 - val_accuracy: 0.7013\n",
            "Epoch 33/100\n",
            "20/20 [==============================] - 0s 6ms/step - loss: 4.6350e-06 - accuracy: 1.0000 - val_loss: 3.6218 - val_accuracy: 0.6948\n",
            "Epoch 34/100\n",
            "20/20 [==============================] - 0s 6ms/step - loss: 4.1593e-06 - accuracy: 1.0000 - val_loss: 3.6623 - val_accuracy: 0.7078\n",
            "Epoch 35/100\n",
            "20/20 [==============================] - 0s 5ms/step - loss: 3.6160e-06 - accuracy: 1.0000 - val_loss: 3.6888 - val_accuracy: 0.7143\n",
            "Epoch 36/100\n",
            "20/20 [==============================] - 0s 5ms/step - loss: 3.2570e-06 - accuracy: 1.0000 - val_loss: 3.7107 - val_accuracy: 0.7143\n",
            "Epoch 37/100\n",
            "20/20 [==============================] - 0s 5ms/step - loss: 2.9974e-06 - accuracy: 1.0000 - val_loss: 3.7306 - val_accuracy: 0.7143\n",
            "Epoch 38/100\n",
            "20/20 [==============================] - 0s 5ms/step - loss: 2.7569e-06 - accuracy: 1.0000 - val_loss: 3.7491 - val_accuracy: 0.7143\n",
            "Epoch 39/100\n",
            "20/20 [==============================] - 0s 5ms/step - loss: 2.5696e-06 - accuracy: 1.0000 - val_loss: 3.7653 - val_accuracy: 0.7013\n",
            "Epoch 40/100\n",
            "20/20 [==============================] - 0s 5ms/step - loss: 2.4139e-06 - accuracy: 1.0000 - val_loss: 3.7824 - val_accuracy: 0.7078\n",
            "Epoch 41/100\n",
            "20/20 [==============================] - 0s 5ms/step - loss: 2.2521e-06 - accuracy: 1.0000 - val_loss: 3.7980 - val_accuracy: 0.7078\n",
            "Epoch 42/100\n",
            "20/20 [==============================] - 0s 5ms/step - loss: 2.1256e-06 - accuracy: 1.0000 - val_loss: 3.8155 - val_accuracy: 0.7143\n",
            "Epoch 43/100\n",
            "20/20 [==============================] - 0s 6ms/step - loss: 2.0105e-06 - accuracy: 1.0000 - val_loss: 3.8288 - val_accuracy: 0.7078\n",
            "Epoch 44/100\n",
            "20/20 [==============================] - 0s 5ms/step - loss: 1.8950e-06 - accuracy: 1.0000 - val_loss: 3.8416 - val_accuracy: 0.7143\n",
            "Epoch 45/100\n",
            "20/20 [==============================] - 0s 5ms/step - loss: 1.8019e-06 - accuracy: 1.0000 - val_loss: 3.8538 - val_accuracy: 0.7078\n",
            "Epoch 46/100\n",
            "20/20 [==============================] - 0s 4ms/step - loss: 1.7165e-06 - accuracy: 1.0000 - val_loss: 3.8653 - val_accuracy: 0.7078\n",
            "Epoch 47/100\n",
            "20/20 [==============================] - 0s 6ms/step - loss: 1.6318e-06 - accuracy: 1.0000 - val_loss: 3.8768 - val_accuracy: 0.7078\n",
            "Epoch 48/100\n",
            "20/20 [==============================] - 0s 5ms/step - loss: 1.5680e-06 - accuracy: 1.0000 - val_loss: 3.8917 - val_accuracy: 0.7078\n",
            "Epoch 49/100\n",
            "20/20 [==============================] - 0s 5ms/step - loss: 1.5071e-06 - accuracy: 1.0000 - val_loss: 3.9018 - val_accuracy: 0.7078\n",
            "Epoch 50/100\n",
            "20/20 [==============================] - 0s 4ms/step - loss: 1.4359e-06 - accuracy: 1.0000 - val_loss: 3.9108 - val_accuracy: 0.7078\n",
            "Epoch 51/100\n",
            "20/20 [==============================] - 0s 6ms/step - loss: 1.3825e-06 - accuracy: 1.0000 - val_loss: 3.9202 - val_accuracy: 0.7078\n",
            "Epoch 52/100\n",
            "20/20 [==============================] - 0s 6ms/step - loss: 1.3347e-06 - accuracy: 1.0000 - val_loss: 3.9314 - val_accuracy: 0.7078\n",
            "Epoch 53/100\n",
            "20/20 [==============================] - 0s 5ms/step - loss: 1.2842e-06 - accuracy: 1.0000 - val_loss: 3.9392 - val_accuracy: 0.7078\n",
            "Epoch 54/100\n",
            "20/20 [==============================] - 0s 5ms/step - loss: 1.2408e-06 - accuracy: 1.0000 - val_loss: 3.9474 - val_accuracy: 0.7078\n",
            "Epoch 55/100\n",
            "20/20 [==============================] - 0s 5ms/step - loss: 1.1963e-06 - accuracy: 1.0000 - val_loss: 3.9544 - val_accuracy: 0.7078\n",
            "Epoch 56/100\n",
            "20/20 [==============================] - 0s 5ms/step - loss: 1.1584e-06 - accuracy: 1.0000 - val_loss: 3.9648 - val_accuracy: 0.7078\n",
            "Epoch 57/100\n",
            "20/20 [==============================] - 0s 5ms/step - loss: 1.1209e-06 - accuracy: 1.0000 - val_loss: 3.9724 - val_accuracy: 0.7078\n",
            "Epoch 58/100\n",
            "20/20 [==============================] - 0s 4ms/step - loss: 1.0870e-06 - accuracy: 1.0000 - val_loss: 3.9798 - val_accuracy: 0.7078\n",
            "Epoch 59/100\n",
            "20/20 [==============================] - 0s 5ms/step - loss: 1.0536e-06 - accuracy: 1.0000 - val_loss: 3.9888 - val_accuracy: 0.7078\n",
            "Epoch 60/100\n",
            "20/20 [==============================] - 0s 5ms/step - loss: 1.0215e-06 - accuracy: 1.0000 - val_loss: 3.9935 - val_accuracy: 0.7078\n",
            "Epoch 61/100\n",
            "20/20 [==============================] - 0s 6ms/step - loss: 9.9292e-07 - accuracy: 1.0000 - val_loss: 4.0008 - val_accuracy: 0.7013\n",
            "Epoch 62/100\n",
            "20/20 [==============================] - 0s 6ms/step - loss: 9.6291e-07 - accuracy: 1.0000 - val_loss: 4.0080 - val_accuracy: 0.7013\n",
            "Epoch 63/100\n",
            "20/20 [==============================] - 0s 5ms/step - loss: 9.3899e-07 - accuracy: 1.0000 - val_loss: 4.0138 - val_accuracy: 0.7013\n",
            "Epoch 64/100\n",
            "20/20 [==============================] - 0s 5ms/step - loss: 9.1451e-07 - accuracy: 1.0000 - val_loss: 4.0200 - val_accuracy: 0.7013\n",
            "Epoch 65/100\n",
            "20/20 [==============================] - 0s 5ms/step - loss: 8.9287e-07 - accuracy: 1.0000 - val_loss: 4.0246 - val_accuracy: 0.7078\n",
            "Epoch 66/100\n",
            "20/20 [==============================] - 0s 6ms/step - loss: 8.6992e-07 - accuracy: 1.0000 - val_loss: 4.0315 - val_accuracy: 0.7078\n",
            "Epoch 67/100\n",
            "20/20 [==============================] - 0s 5ms/step - loss: 8.4737e-07 - accuracy: 1.0000 - val_loss: 4.0376 - val_accuracy: 0.7013\n",
            "Epoch 68/100\n",
            "20/20 [==============================] - 0s 6ms/step - loss: 8.2575e-07 - accuracy: 1.0000 - val_loss: 4.0433 - val_accuracy: 0.7078\n",
            "Epoch 69/100\n",
            "20/20 [==============================] - 0s 5ms/step - loss: 8.0656e-07 - accuracy: 1.0000 - val_loss: 4.0492 - val_accuracy: 0.7013\n",
            "Epoch 70/100\n",
            "20/20 [==============================] - 0s 5ms/step - loss: 7.8655e-07 - accuracy: 1.0000 - val_loss: 4.0550 - val_accuracy: 0.7013\n",
            "Epoch 71/100\n",
            "20/20 [==============================] - 0s 5ms/step - loss: 7.6993e-07 - accuracy: 1.0000 - val_loss: 4.0611 - val_accuracy: 0.7013\n",
            "Epoch 72/100\n",
            "20/20 [==============================] - 0s 5ms/step - loss: 7.5454e-07 - accuracy: 1.0000 - val_loss: 4.0661 - val_accuracy: 0.7013\n",
            "Epoch 73/100\n",
            "20/20 [==============================] - 0s 5ms/step - loss: 7.3709e-07 - accuracy: 1.0000 - val_loss: 4.0713 - val_accuracy: 0.7013\n",
            "Epoch 74/100\n",
            "20/20 [==============================] - 0s 5ms/step - loss: 7.2173e-07 - accuracy: 1.0000 - val_loss: 4.0758 - val_accuracy: 0.7013\n",
            "Epoch 75/100\n",
            "20/20 [==============================] - 0s 6ms/step - loss: 7.0740e-07 - accuracy: 1.0000 - val_loss: 4.0832 - val_accuracy: 0.7013\n",
            "Epoch 76/100\n",
            "20/20 [==============================] - 0s 6ms/step - loss: 6.9170e-07 - accuracy: 1.0000 - val_loss: 4.0876 - val_accuracy: 0.7013\n",
            "Epoch 77/100\n",
            "20/20 [==============================] - 0s 6ms/step - loss: 6.7827e-07 - accuracy: 1.0000 - val_loss: 4.0915 - val_accuracy: 0.7013\n",
            "Epoch 78/100\n",
            "20/20 [==============================] - 0s 6ms/step - loss: 6.6477e-07 - accuracy: 1.0000 - val_loss: 4.0965 - val_accuracy: 0.7013\n",
            "Epoch 79/100\n",
            "20/20 [==============================] - 0s 6ms/step - loss: 6.5269e-07 - accuracy: 1.0000 - val_loss: 4.1013 - val_accuracy: 0.7013\n",
            "Epoch 80/100\n",
            "20/20 [==============================] - 0s 6ms/step - loss: 6.3923e-07 - accuracy: 1.0000 - val_loss: 4.1058 - val_accuracy: 0.7013\n",
            "Epoch 81/100\n",
            "20/20 [==============================] - 0s 5ms/step - loss: 6.2840e-07 - accuracy: 1.0000 - val_loss: 4.1097 - val_accuracy: 0.7013\n",
            "Epoch 82/100\n",
            "20/20 [==============================] - 0s 5ms/step - loss: 6.1721e-07 - accuracy: 1.0000 - val_loss: 4.1146 - val_accuracy: 0.7013\n",
            "Epoch 83/100\n",
            "20/20 [==============================] - 0s 5ms/step - loss: 6.0657e-07 - accuracy: 1.0000 - val_loss: 4.1192 - val_accuracy: 0.7013\n",
            "Epoch 84/100\n",
            "20/20 [==============================] - 0s 5ms/step - loss: 5.9584e-07 - accuracy: 1.0000 - val_loss: 4.1238 - val_accuracy: 0.7013\n",
            "Epoch 85/100\n",
            "20/20 [==============================] - 0s 6ms/step - loss: 5.8499e-07 - accuracy: 1.0000 - val_loss: 4.1275 - val_accuracy: 0.7013\n",
            "Epoch 86/100\n",
            "20/20 [==============================] - 0s 6ms/step - loss: 5.7669e-07 - accuracy: 1.0000 - val_loss: 4.1320 - val_accuracy: 0.7013\n",
            "Epoch 87/100\n",
            "20/20 [==============================] - 0s 5ms/step - loss: 5.6602e-07 - accuracy: 1.0000 - val_loss: 4.1360 - val_accuracy: 0.7013\n",
            "Epoch 88/100\n",
            "20/20 [==============================] - 0s 6ms/step - loss: 5.5835e-07 - accuracy: 1.0000 - val_loss: 4.1396 - val_accuracy: 0.7013\n",
            "Epoch 89/100\n",
            "20/20 [==============================] - 0s 5ms/step - loss: 5.4859e-07 - accuracy: 1.0000 - val_loss: 4.1446 - val_accuracy: 0.7013\n",
            "Epoch 90/100\n",
            "20/20 [==============================] - 0s 5ms/step - loss: 5.3969e-07 - accuracy: 1.0000 - val_loss: 4.1487 - val_accuracy: 0.7013\n",
            "Epoch 91/100\n",
            "20/20 [==============================] - 0s 5ms/step - loss: 5.3198e-07 - accuracy: 1.0000 - val_loss: 4.1526 - val_accuracy: 0.7013\n",
            "Epoch 92/100\n",
            "20/20 [==============================] - 0s 5ms/step - loss: 5.2325e-07 - accuracy: 1.0000 - val_loss: 4.1563 - val_accuracy: 0.7013\n",
            "Epoch 93/100\n",
            "20/20 [==============================] - 0s 5ms/step - loss: 5.1608e-07 - accuracy: 1.0000 - val_loss: 4.1601 - val_accuracy: 0.7013\n",
            "Epoch 94/100\n",
            "20/20 [==============================] - 0s 7ms/step - loss: 5.0810e-07 - accuracy: 1.0000 - val_loss: 4.1639 - val_accuracy: 0.7013\n",
            "Epoch 95/100\n",
            "20/20 [==============================] - 0s 7ms/step - loss: 5.0068e-07 - accuracy: 1.0000 - val_loss: 4.1675 - val_accuracy: 0.7013\n",
            "Epoch 96/100\n",
            "20/20 [==============================] - 0s 8ms/step - loss: 4.9352e-07 - accuracy: 1.0000 - val_loss: 4.1712 - val_accuracy: 0.7013\n",
            "Epoch 97/100\n",
            "20/20 [==============================] - 0s 8ms/step - loss: 4.8663e-07 - accuracy: 1.0000 - val_loss: 4.1746 - val_accuracy: 0.7013\n",
            "Epoch 98/100\n",
            "20/20 [==============================] - 0s 8ms/step - loss: 4.7913e-07 - accuracy: 1.0000 - val_loss: 4.1782 - val_accuracy: 0.7013\n",
            "Epoch 99/100\n",
            "20/20 [==============================] - 0s 8ms/step - loss: 4.7265e-07 - accuracy: 1.0000 - val_loss: 4.1815 - val_accuracy: 0.7013\n",
            "Epoch 100/100\n",
            "20/20 [==============================] - 0s 7ms/step - loss: 4.6630e-07 - accuracy: 1.0000 - val_loss: 4.1845 - val_accuracy: 0.7013\n"
          ]
        },
        {
          "output_type": "execute_result",
          "data": {
            "text/plain": [
              "<keras.src.callbacks.History at 0x7a0df5030dc0>"
            ]
          },
          "metadata": {},
          "execution_count": 66
        }
      ]
    },
    {
      "cell_type": "code",
      "source": [
        "def build_model(hp):\n",
        "\n",
        "  model = Sequential()\n",
        "\n",
        "  counter = 0\n",
        "\n",
        "\n",
        "\n",
        "  for i in range(hp.Int('num_layers',min_value =1,max_value =10)):\n",
        "\n",
        "    if counter == 0:\n",
        "\n",
        "      model.add(Dense(hp.Int('units' + str(i) , min_value = 8 , max_value = 128,step = 8),activation=hp.Choice('activation' + str(i),values = ['relu','tanh','sigmoid','elu'])\n",
        "      ,input_dim = 8))\n",
        "      model.add(Dropout(hp.Choice('dropout' + str(i),values= [0.8,0.2,0.3,0.4])))\n",
        "\n",
        "\n",
        "    else:\n",
        "\n",
        "      model.add(Dense(hp.Int('units' + str(i) , min_value = 8 , max_value = 128,step = 8),activation=hp.Choice('activation' + str(i),values = ['relu','tanh','sigmoid','elu'])))\n",
        "      model.add(Dropout(hp.Choice('dropout' + str(i),values= [0.8,0.2,0.3,0.4])))\n",
        "\n",
        "    counter+=1\n",
        "\n",
        "\n",
        "  model.add(Dense(1,activation='sigmoid'))\n",
        "\n",
        "\n",
        "  model.compile(optimizer=hp.Choice('optimizer', values = ['adadelta','sgd','adam']),loss = 'binary_crossentropy',metrics = ['accuracy'])\n",
        "\n",
        "  return model\n",
        "\n",
        "\n",
        "\n",
        "\n"
      ],
      "metadata": {
        "id": "nQKK85LLTl82"
      },
      "execution_count": null,
      "outputs": []
    },
    {
      "cell_type": "code",
      "source": [
        "tuner = kt.RandomSearch(build_model,objective = 'val_accuracy',max_trials = 5,directory = 'mydir',project_name = 'final1')"
      ],
      "metadata": {
        "id": "SEhmtQi8Tl5Z"
      },
      "execution_count": null,
      "outputs": []
    },
    {
      "cell_type": "code",
      "source": [
        "tuner.search(X_train,y_train,epochs = 5,validation_data=(X_test,y_test))"
      ],
      "metadata": {
        "colab": {
          "base_uri": "https://localhost:8080/"
        },
        "id": "I1534SBNTl3C",
        "outputId": "12e000c5-ca5a-4a1e-ee44-30d3c4957ebd"
      },
      "execution_count": null,
      "outputs": [
        {
          "output_type": "stream",
          "name": "stdout",
          "text": [
            "Trial 5 Complete [00h 00m 03s]\n",
            "val_accuracy: 0.6428571343421936\n",
            "\n",
            "Best val_accuracy So Far: 0.6818181872367859\n",
            "Total elapsed time: 00h 00m 16s\n"
          ]
        }
      ]
    },
    {
      "cell_type": "code",
      "source": [
        "tuner.get_best_hyperparameters()[0].values"
      ],
      "metadata": {
        "colab": {
          "base_uri": "https://localhost:8080/"
        },
        "id": "IHaKymEaWtpC",
        "outputId": "2f563d47-211f-450a-a7c1-ae7570ee9f9d"
      },
      "execution_count": null,
      "outputs": [
        {
          "output_type": "execute_result",
          "data": {
            "text/plain": [
              "{'num_layers': 1,\n",
              " 'units0': 48,\n",
              " 'activation0': 'sigmoid',\n",
              " 'dropout0': 0.3,\n",
              " 'optimizer': 'sgd',\n",
              " 'units1': 96,\n",
              " 'activation1': 'sigmoid',\n",
              " 'dropout1': 0.8,\n",
              " 'units2': 80,\n",
              " 'activation2': 'sigmoid',\n",
              " 'dropout2': 0.8,\n",
              " 'units3': 56,\n",
              " 'activation3': 'relu',\n",
              " 'dropout3': 0.3,\n",
              " 'units4': 80,\n",
              " 'activation4': 'sigmoid',\n",
              " 'dropout4': 0.4,\n",
              " 'units5': 88,\n",
              " 'activation5': 'elu',\n",
              " 'dropout5': 0.4,\n",
              " 'units6': 112,\n",
              " 'activation6': 'tanh',\n",
              " 'dropout6': 0.4,\n",
              " 'units7': 56,\n",
              " 'activation7': 'relu',\n",
              " 'dropout7': 0.2,\n",
              " 'units8': 24,\n",
              " 'activation8': 'sigmoid',\n",
              " 'dropout8': 0.2,\n",
              " 'units9': 128,\n",
              " 'activation9': 'sigmoid',\n",
              " 'dropout9': 0.8}"
            ]
          },
          "metadata": {},
          "execution_count": 82
        }
      ]
    },
    {
      "cell_type": "code",
      "source": [
        "model = tuner.get_best_models(num_models=1)[0]"
      ],
      "metadata": {
        "id": "U9G-IzvmW1iZ"
      },
      "execution_count": null,
      "outputs": []
    },
    {
      "cell_type": "code",
      "source": [
        "model.fit(X_train,y_train,epochs = 200,initial_epoch=6,validation_data=(X_test,y_test))"
      ],
      "metadata": {
        "colab": {
          "base_uri": "https://localhost:8080/"
        },
        "id": "hhNW0K2EXEIl",
        "outputId": "a1a2f732-f2ac-480f-c17a-7799398a5047"
      },
      "execution_count": null,
      "outputs": [
        {
          "output_type": "stream",
          "name": "stdout",
          "text": [
            "Epoch 7/200\n",
            "20/20 [==============================] - 1s 13ms/step - loss: 0.6505 - accuracy: 0.6091 - val_loss: 0.6445 - val_accuracy: 0.6429\n",
            "Epoch 8/200\n",
            "20/20 [==============================] - 0s 4ms/step - loss: 0.6656 - accuracy: 0.6270 - val_loss: 0.6393 - val_accuracy: 0.6494\n",
            "Epoch 9/200\n",
            "20/20 [==============================] - 0s 4ms/step - loss: 0.6393 - accuracy: 0.6352 - val_loss: 0.6354 - val_accuracy: 0.6494\n",
            "Epoch 10/200\n",
            "20/20 [==============================] - 0s 4ms/step - loss: 0.6336 - accuracy: 0.6531 - val_loss: 0.6326 - val_accuracy: 0.6494\n",
            "Epoch 11/200\n",
            "20/20 [==============================] - 0s 4ms/step - loss: 0.6526 - accuracy: 0.6433 - val_loss: 0.6301 - val_accuracy: 0.6494\n",
            "Epoch 12/200\n",
            "20/20 [==============================] - 0s 4ms/step - loss: 0.6347 - accuracy: 0.6564 - val_loss: 0.6268 - val_accuracy: 0.6558\n",
            "Epoch 13/200\n",
            "20/20 [==============================] - 0s 4ms/step - loss: 0.6423 - accuracy: 0.6482 - val_loss: 0.6240 - val_accuracy: 0.6558\n",
            "Epoch 14/200\n",
            "20/20 [==============================] - 0s 4ms/step - loss: 0.6354 - accuracy: 0.6515 - val_loss: 0.6211 - val_accuracy: 0.6558\n",
            "Epoch 15/200\n",
            "20/20 [==============================] - 0s 5ms/step - loss: 0.6308 - accuracy: 0.6661 - val_loss: 0.6192 - val_accuracy: 0.6558\n",
            "Epoch 16/200\n",
            "20/20 [==============================] - 0s 6ms/step - loss: 0.6449 - accuracy: 0.6596 - val_loss: 0.6168 - val_accuracy: 0.6558\n",
            "Epoch 17/200\n",
            "20/20 [==============================] - 0s 6ms/step - loss: 0.6217 - accuracy: 0.6710 - val_loss: 0.6143 - val_accuracy: 0.6558\n",
            "Epoch 18/200\n",
            "20/20 [==============================] - 0s 7ms/step - loss: 0.6065 - accuracy: 0.6759 - val_loss: 0.6126 - val_accuracy: 0.6558\n",
            "Epoch 19/200\n",
            "20/20 [==============================] - 0s 6ms/step - loss: 0.6198 - accuracy: 0.6612 - val_loss: 0.6091 - val_accuracy: 0.6558\n",
            "Epoch 20/200\n",
            "20/20 [==============================] - 0s 6ms/step - loss: 0.6255 - accuracy: 0.6531 - val_loss: 0.6068 - val_accuracy: 0.6494\n",
            "Epoch 21/200\n",
            "20/20 [==============================] - 0s 5ms/step - loss: 0.6162 - accuracy: 0.6889 - val_loss: 0.6045 - val_accuracy: 0.6429\n",
            "Epoch 22/200\n",
            "20/20 [==============================] - 0s 6ms/step - loss: 0.6085 - accuracy: 0.6694 - val_loss: 0.6026 - val_accuracy: 0.6429\n",
            "Epoch 23/200\n",
            "20/20 [==============================] - 0s 6ms/step - loss: 0.6088 - accuracy: 0.6678 - val_loss: 0.5995 - val_accuracy: 0.6688\n",
            "Epoch 24/200\n",
            "20/20 [==============================] - 0s 6ms/step - loss: 0.6208 - accuracy: 0.6547 - val_loss: 0.5979 - val_accuracy: 0.6623\n",
            "Epoch 25/200\n",
            "20/20 [==============================] - 0s 6ms/step - loss: 0.6048 - accuracy: 0.6857 - val_loss: 0.5966 - val_accuracy: 0.6558\n",
            "Epoch 26/200\n",
            "20/20 [==============================] - 0s 5ms/step - loss: 0.6023 - accuracy: 0.6873 - val_loss: 0.5943 - val_accuracy: 0.6623\n",
            "Epoch 27/200\n",
            "20/20 [==============================] - 0s 6ms/step - loss: 0.5950 - accuracy: 0.6661 - val_loss: 0.5924 - val_accuracy: 0.6688\n",
            "Epoch 28/200\n",
            "20/20 [==============================] - 0s 6ms/step - loss: 0.6103 - accuracy: 0.6792 - val_loss: 0.5917 - val_accuracy: 0.6623\n",
            "Epoch 29/200\n",
            "20/20 [==============================] - 0s 5ms/step - loss: 0.6120 - accuracy: 0.6808 - val_loss: 0.5900 - val_accuracy: 0.6623\n",
            "Epoch 30/200\n",
            "20/20 [==============================] - 0s 6ms/step - loss: 0.5949 - accuracy: 0.6873 - val_loss: 0.5871 - val_accuracy: 0.6753\n",
            "Epoch 31/200\n",
            "20/20 [==============================] - 0s 5ms/step - loss: 0.5997 - accuracy: 0.6775 - val_loss: 0.5851 - val_accuracy: 0.6818\n",
            "Epoch 32/200\n",
            "20/20 [==============================] - 0s 6ms/step - loss: 0.5789 - accuracy: 0.7036 - val_loss: 0.5839 - val_accuracy: 0.6753\n",
            "Epoch 33/200\n",
            "20/20 [==============================] - 0s 7ms/step - loss: 0.5964 - accuracy: 0.6824 - val_loss: 0.5817 - val_accuracy: 0.6883\n",
            "Epoch 34/200\n",
            "20/20 [==============================] - 0s 5ms/step - loss: 0.5907 - accuracy: 0.6840 - val_loss: 0.5805 - val_accuracy: 0.6818\n",
            "Epoch 35/200\n",
            "20/20 [==============================] - 0s 7ms/step - loss: 0.5921 - accuracy: 0.6629 - val_loss: 0.5790 - val_accuracy: 0.6818\n",
            "Epoch 36/200\n",
            "20/20 [==============================] - 0s 6ms/step - loss: 0.5706 - accuracy: 0.7036 - val_loss: 0.5781 - val_accuracy: 0.6818\n",
            "Epoch 37/200\n",
            "20/20 [==============================] - 0s 6ms/step - loss: 0.6066 - accuracy: 0.6873 - val_loss: 0.5764 - val_accuracy: 0.6883\n",
            "Epoch 38/200\n",
            "20/20 [==============================] - 0s 5ms/step - loss: 0.5881 - accuracy: 0.6775 - val_loss: 0.5748 - val_accuracy: 0.6883\n",
            "Epoch 39/200\n",
            "20/20 [==============================] - 0s 6ms/step - loss: 0.5897 - accuracy: 0.6726 - val_loss: 0.5731 - val_accuracy: 0.6883\n",
            "Epoch 40/200\n",
            "20/20 [==============================] - 0s 6ms/step - loss: 0.5889 - accuracy: 0.6808 - val_loss: 0.5713 - val_accuracy: 0.7013\n",
            "Epoch 41/200\n",
            "20/20 [==============================] - 0s 8ms/step - loss: 0.5785 - accuracy: 0.6857 - val_loss: 0.5704 - val_accuracy: 0.6883\n",
            "Epoch 42/200\n",
            "20/20 [==============================] - 0s 6ms/step - loss: 0.5830 - accuracy: 0.6889 - val_loss: 0.5690 - val_accuracy: 0.6948\n",
            "Epoch 43/200\n",
            "20/20 [==============================] - 0s 7ms/step - loss: 0.5746 - accuracy: 0.7052 - val_loss: 0.5678 - val_accuracy: 0.6948\n",
            "Epoch 44/200\n",
            "20/20 [==============================] - 0s 6ms/step - loss: 0.5891 - accuracy: 0.6954 - val_loss: 0.5660 - val_accuracy: 0.7013\n",
            "Epoch 45/200\n",
            "20/20 [==============================] - 0s 3ms/step - loss: 0.5674 - accuracy: 0.7068 - val_loss: 0.5654 - val_accuracy: 0.6948\n",
            "Epoch 46/200\n",
            "20/20 [==============================] - 0s 4ms/step - loss: 0.5819 - accuracy: 0.6971 - val_loss: 0.5636 - val_accuracy: 0.7078\n",
            "Epoch 47/200\n",
            "20/20 [==============================] - 0s 4ms/step - loss: 0.5827 - accuracy: 0.6971 - val_loss: 0.5621 - val_accuracy: 0.7078\n",
            "Epoch 48/200\n",
            "20/20 [==============================] - 0s 4ms/step - loss: 0.5720 - accuracy: 0.7052 - val_loss: 0.5600 - val_accuracy: 0.7013\n",
            "Epoch 49/200\n",
            "20/20 [==============================] - 0s 5ms/step - loss: 0.5803 - accuracy: 0.6922 - val_loss: 0.5588 - val_accuracy: 0.7013\n",
            "Epoch 50/200\n",
            "20/20 [==============================] - 0s 3ms/step - loss: 0.5825 - accuracy: 0.6889 - val_loss: 0.5578 - val_accuracy: 0.7013\n",
            "Epoch 51/200\n",
            "20/20 [==============================] - 0s 4ms/step - loss: 0.5753 - accuracy: 0.6824 - val_loss: 0.5563 - val_accuracy: 0.7078\n",
            "Epoch 52/200\n",
            "20/20 [==============================] - 0s 4ms/step - loss: 0.5729 - accuracy: 0.7052 - val_loss: 0.5556 - val_accuracy: 0.7013\n",
            "Epoch 53/200\n",
            "20/20 [==============================] - 0s 4ms/step - loss: 0.5645 - accuracy: 0.7313 - val_loss: 0.5546 - val_accuracy: 0.7013\n",
            "Epoch 54/200\n",
            "20/20 [==============================] - 0s 4ms/step - loss: 0.5686 - accuracy: 0.7003 - val_loss: 0.5535 - val_accuracy: 0.7013\n",
            "Epoch 55/200\n",
            "20/20 [==============================] - 0s 6ms/step - loss: 0.5722 - accuracy: 0.7036 - val_loss: 0.5522 - val_accuracy: 0.7013\n",
            "Epoch 56/200\n",
            "20/20 [==============================] - 0s 4ms/step - loss: 0.5759 - accuracy: 0.6889 - val_loss: 0.5509 - val_accuracy: 0.7143\n",
            "Epoch 57/200\n",
            "20/20 [==============================] - 0s 4ms/step - loss: 0.5617 - accuracy: 0.7117 - val_loss: 0.5499 - val_accuracy: 0.7208\n",
            "Epoch 58/200\n",
            "20/20 [==============================] - 0s 4ms/step - loss: 0.5586 - accuracy: 0.7134 - val_loss: 0.5490 - val_accuracy: 0.7143\n",
            "Epoch 59/200\n",
            "20/20 [==============================] - 0s 4ms/step - loss: 0.5605 - accuracy: 0.7052 - val_loss: 0.5480 - val_accuracy: 0.7208\n",
            "Epoch 60/200\n",
            "20/20 [==============================] - 0s 4ms/step - loss: 0.5643 - accuracy: 0.6971 - val_loss: 0.5476 - val_accuracy: 0.7208\n",
            "Epoch 61/200\n",
            "20/20 [==============================] - 0s 4ms/step - loss: 0.5621 - accuracy: 0.7199 - val_loss: 0.5463 - val_accuracy: 0.7403\n",
            "Epoch 62/200\n",
            "20/20 [==============================] - 0s 4ms/step - loss: 0.5631 - accuracy: 0.7134 - val_loss: 0.5456 - val_accuracy: 0.7273\n",
            "Epoch 63/200\n",
            "20/20 [==============================] - 0s 4ms/step - loss: 0.5691 - accuracy: 0.7117 - val_loss: 0.5439 - val_accuracy: 0.7273\n",
            "Epoch 64/200\n",
            "20/20 [==============================] - 0s 4ms/step - loss: 0.5549 - accuracy: 0.7068 - val_loss: 0.5435 - val_accuracy: 0.7403\n",
            "Epoch 65/200\n",
            "20/20 [==============================] - 0s 4ms/step - loss: 0.5627 - accuracy: 0.6906 - val_loss: 0.5423 - val_accuracy: 0.7403\n",
            "Epoch 66/200\n",
            "20/20 [==============================] - 0s 5ms/step - loss: 0.5672 - accuracy: 0.6971 - val_loss: 0.5415 - val_accuracy: 0.7403\n",
            "Epoch 67/200\n",
            "20/20 [==============================] - 0s 3ms/step - loss: 0.5622 - accuracy: 0.7068 - val_loss: 0.5408 - val_accuracy: 0.7403\n",
            "Epoch 68/200\n",
            "20/20 [==============================] - 0s 4ms/step - loss: 0.5634 - accuracy: 0.6954 - val_loss: 0.5396 - val_accuracy: 0.7273\n",
            "Epoch 69/200\n",
            "20/20 [==============================] - 0s 4ms/step - loss: 0.5610 - accuracy: 0.7101 - val_loss: 0.5388 - val_accuracy: 0.7273\n",
            "Epoch 70/200\n",
            "20/20 [==============================] - 0s 4ms/step - loss: 0.5494 - accuracy: 0.7150 - val_loss: 0.5383 - val_accuracy: 0.7338\n",
            "Epoch 71/200\n",
            "20/20 [==============================] - 0s 4ms/step - loss: 0.5454 - accuracy: 0.7345 - val_loss: 0.5370 - val_accuracy: 0.7273\n",
            "Epoch 72/200\n",
            "20/20 [==============================] - 0s 4ms/step - loss: 0.5578 - accuracy: 0.7215 - val_loss: 0.5358 - val_accuracy: 0.7338\n",
            "Epoch 73/200\n",
            "20/20 [==============================] - 0s 4ms/step - loss: 0.5550 - accuracy: 0.7134 - val_loss: 0.5354 - val_accuracy: 0.7273\n",
            "Epoch 74/200\n",
            "20/20 [==============================] - 0s 4ms/step - loss: 0.5596 - accuracy: 0.6906 - val_loss: 0.5354 - val_accuracy: 0.7338\n",
            "Epoch 75/200\n",
            "20/20 [==============================] - 0s 3ms/step - loss: 0.5435 - accuracy: 0.7199 - val_loss: 0.5345 - val_accuracy: 0.7338\n",
            "Epoch 76/200\n",
            "20/20 [==============================] - 0s 5ms/step - loss: 0.5579 - accuracy: 0.7134 - val_loss: 0.5334 - val_accuracy: 0.7338\n",
            "Epoch 77/200\n",
            "20/20 [==============================] - 0s 4ms/step - loss: 0.5568 - accuracy: 0.7085 - val_loss: 0.5327 - val_accuracy: 0.7338\n",
            "Epoch 78/200\n",
            "20/20 [==============================] - 0s 4ms/step - loss: 0.5498 - accuracy: 0.7134 - val_loss: 0.5318 - val_accuracy: 0.7338\n",
            "Epoch 79/200\n",
            "20/20 [==============================] - 0s 4ms/step - loss: 0.5567 - accuracy: 0.7134 - val_loss: 0.5314 - val_accuracy: 0.7338\n",
            "Epoch 80/200\n",
            "20/20 [==============================] - 0s 4ms/step - loss: 0.5569 - accuracy: 0.7280 - val_loss: 0.5311 - val_accuracy: 0.7403\n",
            "Epoch 81/200\n",
            "20/20 [==============================] - 0s 4ms/step - loss: 0.5450 - accuracy: 0.7068 - val_loss: 0.5305 - val_accuracy: 0.7403\n",
            "Epoch 82/200\n",
            "20/20 [==============================] - 0s 4ms/step - loss: 0.5467 - accuracy: 0.6971 - val_loss: 0.5290 - val_accuracy: 0.7403\n",
            "Epoch 83/200\n",
            "20/20 [==============================] - 0s 4ms/step - loss: 0.5498 - accuracy: 0.7166 - val_loss: 0.5278 - val_accuracy: 0.7468\n",
            "Epoch 84/200\n",
            "20/20 [==============================] - 0s 4ms/step - loss: 0.5466 - accuracy: 0.7296 - val_loss: 0.5272 - val_accuracy: 0.7468\n",
            "Epoch 85/200\n",
            "20/20 [==============================] - 0s 4ms/step - loss: 0.5494 - accuracy: 0.7329 - val_loss: 0.5264 - val_accuracy: 0.7532\n",
            "Epoch 86/200\n",
            "20/20 [==============================] - 0s 4ms/step - loss: 0.5468 - accuracy: 0.7410 - val_loss: 0.5255 - val_accuracy: 0.7597\n",
            "Epoch 87/200\n",
            "20/20 [==============================] - 0s 4ms/step - loss: 0.5618 - accuracy: 0.7166 - val_loss: 0.5251 - val_accuracy: 0.7532\n",
            "Epoch 88/200\n",
            "20/20 [==============================] - 0s 4ms/step - loss: 0.5396 - accuracy: 0.7248 - val_loss: 0.5251 - val_accuracy: 0.7403\n",
            "Epoch 89/200\n",
            "20/20 [==============================] - 0s 4ms/step - loss: 0.5470 - accuracy: 0.7182 - val_loss: 0.5242 - val_accuracy: 0.7468\n",
            "Epoch 90/200\n",
            "20/20 [==============================] - 0s 3ms/step - loss: 0.5518 - accuracy: 0.7182 - val_loss: 0.5234 - val_accuracy: 0.7532\n",
            "Epoch 91/200\n",
            "20/20 [==============================] - 0s 4ms/step - loss: 0.5446 - accuracy: 0.7296 - val_loss: 0.5227 - val_accuracy: 0.7532\n",
            "Epoch 92/200\n",
            "20/20 [==============================] - 0s 3ms/step - loss: 0.5486 - accuracy: 0.7248 - val_loss: 0.5212 - val_accuracy: 0.7597\n",
            "Epoch 93/200\n",
            "20/20 [==============================] - 0s 4ms/step - loss: 0.5371 - accuracy: 0.7345 - val_loss: 0.5208 - val_accuracy: 0.7597\n",
            "Epoch 94/200\n",
            "20/20 [==============================] - 0s 4ms/step - loss: 0.5527 - accuracy: 0.7020 - val_loss: 0.5208 - val_accuracy: 0.7532\n",
            "Epoch 95/200\n",
            "20/20 [==============================] - 0s 4ms/step - loss: 0.5424 - accuracy: 0.7329 - val_loss: 0.5199 - val_accuracy: 0.7597\n",
            "Epoch 96/200\n",
            "20/20 [==============================] - 0s 4ms/step - loss: 0.5425 - accuracy: 0.7134 - val_loss: 0.5189 - val_accuracy: 0.7597\n",
            "Epoch 97/200\n",
            "20/20 [==============================] - 0s 4ms/step - loss: 0.5475 - accuracy: 0.7296 - val_loss: 0.5184 - val_accuracy: 0.7597\n",
            "Epoch 98/200\n",
            "20/20 [==============================] - 0s 4ms/step - loss: 0.5436 - accuracy: 0.7036 - val_loss: 0.5179 - val_accuracy: 0.7597\n",
            "Epoch 99/200\n",
            "20/20 [==============================] - 0s 4ms/step - loss: 0.5353 - accuracy: 0.7313 - val_loss: 0.5170 - val_accuracy: 0.7597\n",
            "Epoch 100/200\n",
            "20/20 [==============================] - 0s 4ms/step - loss: 0.5181 - accuracy: 0.7296 - val_loss: 0.5172 - val_accuracy: 0.7597\n",
            "Epoch 101/200\n",
            "20/20 [==============================] - 0s 4ms/step - loss: 0.5306 - accuracy: 0.7410 - val_loss: 0.5169 - val_accuracy: 0.7532\n",
            "Epoch 102/200\n",
            "20/20 [==============================] - 0s 5ms/step - loss: 0.5403 - accuracy: 0.7296 - val_loss: 0.5156 - val_accuracy: 0.7597\n",
            "Epoch 103/200\n",
            "20/20 [==============================] - 0s 4ms/step - loss: 0.5334 - accuracy: 0.7248 - val_loss: 0.5149 - val_accuracy: 0.7597\n",
            "Epoch 104/200\n",
            "20/20 [==============================] - 0s 4ms/step - loss: 0.5386 - accuracy: 0.7345 - val_loss: 0.5147 - val_accuracy: 0.7597\n",
            "Epoch 105/200\n",
            "20/20 [==============================] - 0s 4ms/step - loss: 0.5268 - accuracy: 0.7394 - val_loss: 0.5143 - val_accuracy: 0.7597\n",
            "Epoch 106/200\n",
            "20/20 [==============================] - 0s 4ms/step - loss: 0.5486 - accuracy: 0.7085 - val_loss: 0.5141 - val_accuracy: 0.7597\n",
            "Epoch 107/200\n",
            "20/20 [==============================] - 0s 4ms/step - loss: 0.5415 - accuracy: 0.7166 - val_loss: 0.5132 - val_accuracy: 0.7597\n",
            "Epoch 108/200\n",
            "20/20 [==============================] - 0s 4ms/step - loss: 0.5372 - accuracy: 0.7248 - val_loss: 0.5135 - val_accuracy: 0.7597\n",
            "Epoch 109/200\n",
            "20/20 [==============================] - 0s 4ms/step - loss: 0.5411 - accuracy: 0.7231 - val_loss: 0.5129 - val_accuracy: 0.7597\n",
            "Epoch 110/200\n",
            "20/20 [==============================] - 0s 4ms/step - loss: 0.5292 - accuracy: 0.7068 - val_loss: 0.5121 - val_accuracy: 0.7597\n",
            "Epoch 111/200\n",
            "20/20 [==============================] - 0s 4ms/step - loss: 0.5267 - accuracy: 0.7166 - val_loss: 0.5119 - val_accuracy: 0.7597\n",
            "Epoch 112/200\n",
            "20/20 [==============================] - 0s 3ms/step - loss: 0.5278 - accuracy: 0.7459 - val_loss: 0.5116 - val_accuracy: 0.7597\n",
            "Epoch 113/200\n",
            "20/20 [==============================] - 0s 5ms/step - loss: 0.5262 - accuracy: 0.7313 - val_loss: 0.5112 - val_accuracy: 0.7597\n",
            "Epoch 114/200\n",
            "20/20 [==============================] - 0s 4ms/step - loss: 0.5256 - accuracy: 0.7296 - val_loss: 0.5104 - val_accuracy: 0.7597\n",
            "Epoch 115/200\n",
            "20/20 [==============================] - 0s 4ms/step - loss: 0.5119 - accuracy: 0.7541 - val_loss: 0.5094 - val_accuracy: 0.7597\n",
            "Epoch 116/200\n",
            "20/20 [==============================] - 0s 4ms/step - loss: 0.5351 - accuracy: 0.7280 - val_loss: 0.5083 - val_accuracy: 0.7662\n",
            "Epoch 117/200\n",
            "20/20 [==============================] - 0s 4ms/step - loss: 0.5426 - accuracy: 0.7134 - val_loss: 0.5083 - val_accuracy: 0.7597\n",
            "Epoch 118/200\n",
            "20/20 [==============================] - 0s 4ms/step - loss: 0.5279 - accuracy: 0.7459 - val_loss: 0.5074 - val_accuracy: 0.7662\n",
            "Epoch 119/200\n",
            "20/20 [==============================] - 0s 4ms/step - loss: 0.5191 - accuracy: 0.7378 - val_loss: 0.5069 - val_accuracy: 0.7597\n",
            "Epoch 120/200\n",
            "20/20 [==============================] - 0s 4ms/step - loss: 0.5334 - accuracy: 0.7215 - val_loss: 0.5067 - val_accuracy: 0.7597\n",
            "Epoch 121/200\n",
            "20/20 [==============================] - 0s 5ms/step - loss: 0.5582 - accuracy: 0.7117 - val_loss: 0.5069 - val_accuracy: 0.7597\n",
            "Epoch 122/200\n",
            "20/20 [==============================] - 0s 4ms/step - loss: 0.5236 - accuracy: 0.7492 - val_loss: 0.5069 - val_accuracy: 0.7597\n",
            "Epoch 123/200\n",
            "20/20 [==============================] - 0s 3ms/step - loss: 0.5170 - accuracy: 0.7378 - val_loss: 0.5053 - val_accuracy: 0.7662\n",
            "Epoch 124/200\n",
            "20/20 [==============================] - 0s 4ms/step - loss: 0.5379 - accuracy: 0.7150 - val_loss: 0.5052 - val_accuracy: 0.7662\n",
            "Epoch 125/200\n",
            "20/20 [==============================] - 0s 5ms/step - loss: 0.5199 - accuracy: 0.7362 - val_loss: 0.5051 - val_accuracy: 0.7597\n",
            "Epoch 126/200\n",
            "20/20 [==============================] - 0s 4ms/step - loss: 0.5253 - accuracy: 0.7557 - val_loss: 0.5048 - val_accuracy: 0.7597\n",
            "Epoch 127/200\n",
            "20/20 [==============================] - 0s 4ms/step - loss: 0.5439 - accuracy: 0.7313 - val_loss: 0.5040 - val_accuracy: 0.7597\n",
            "Epoch 128/200\n",
            "20/20 [==============================] - 0s 4ms/step - loss: 0.5269 - accuracy: 0.7410 - val_loss: 0.5040 - val_accuracy: 0.7662\n",
            "Epoch 129/200\n",
            "20/20 [==============================] - 0s 4ms/step - loss: 0.5129 - accuracy: 0.7280 - val_loss: 0.5036 - val_accuracy: 0.7597\n",
            "Epoch 130/200\n",
            "20/20 [==============================] - 0s 5ms/step - loss: 0.5352 - accuracy: 0.7248 - val_loss: 0.5033 - val_accuracy: 0.7597\n",
            "Epoch 131/200\n",
            "20/20 [==============================] - 0s 4ms/step - loss: 0.5297 - accuracy: 0.7410 - val_loss: 0.5025 - val_accuracy: 0.7597\n",
            "Epoch 132/200\n",
            "20/20 [==============================] - 0s 4ms/step - loss: 0.5218 - accuracy: 0.7459 - val_loss: 0.5020 - val_accuracy: 0.7597\n",
            "Epoch 133/200\n",
            "20/20 [==============================] - 0s 4ms/step - loss: 0.5263 - accuracy: 0.7166 - val_loss: 0.5018 - val_accuracy: 0.7597\n",
            "Epoch 134/200\n",
            "20/20 [==============================] - 0s 4ms/step - loss: 0.5286 - accuracy: 0.7313 - val_loss: 0.5012 - val_accuracy: 0.7727\n",
            "Epoch 135/200\n",
            "20/20 [==============================] - 0s 4ms/step - loss: 0.5214 - accuracy: 0.7410 - val_loss: 0.5009 - val_accuracy: 0.7727\n",
            "Epoch 136/200\n",
            "20/20 [==============================] - 0s 5ms/step - loss: 0.5180 - accuracy: 0.7345 - val_loss: 0.5007 - val_accuracy: 0.7662\n",
            "Epoch 137/200\n",
            "20/20 [==============================] - 0s 4ms/step - loss: 0.5314 - accuracy: 0.7264 - val_loss: 0.5004 - val_accuracy: 0.7662\n",
            "Epoch 138/200\n",
            "20/20 [==============================] - 0s 4ms/step - loss: 0.5178 - accuracy: 0.7378 - val_loss: 0.5001 - val_accuracy: 0.7662\n",
            "Epoch 139/200\n",
            "20/20 [==============================] - 0s 4ms/step - loss: 0.5181 - accuracy: 0.7345 - val_loss: 0.4998 - val_accuracy: 0.7662\n",
            "Epoch 140/200\n",
            "20/20 [==============================] - 0s 4ms/step - loss: 0.5300 - accuracy: 0.7199 - val_loss: 0.5003 - val_accuracy: 0.7597\n",
            "Epoch 141/200\n",
            "20/20 [==============================] - 0s 4ms/step - loss: 0.5167 - accuracy: 0.7280 - val_loss: 0.4992 - val_accuracy: 0.7662\n",
            "Epoch 142/200\n",
            "20/20 [==============================] - 0s 4ms/step - loss: 0.5252 - accuracy: 0.7329 - val_loss: 0.4991 - val_accuracy: 0.7662\n",
            "Epoch 143/200\n",
            "20/20 [==============================] - 0s 4ms/step - loss: 0.5271 - accuracy: 0.7182 - val_loss: 0.4998 - val_accuracy: 0.7597\n",
            "Epoch 144/200\n",
            "20/20 [==============================] - 0s 4ms/step - loss: 0.5215 - accuracy: 0.7296 - val_loss: 0.4989 - val_accuracy: 0.7662\n",
            "Epoch 145/200\n",
            "20/20 [==============================] - 0s 5ms/step - loss: 0.5365 - accuracy: 0.7313 - val_loss: 0.4979 - val_accuracy: 0.7727\n",
            "Epoch 146/200\n",
            "20/20 [==============================] - 0s 4ms/step - loss: 0.5063 - accuracy: 0.7492 - val_loss: 0.4975 - val_accuracy: 0.7727\n",
            "Epoch 147/200\n",
            "20/20 [==============================] - 0s 4ms/step - loss: 0.5159 - accuracy: 0.7557 - val_loss: 0.4975 - val_accuracy: 0.7662\n",
            "Epoch 148/200\n",
            "20/20 [==============================] - 0s 3ms/step - loss: 0.5253 - accuracy: 0.7459 - val_loss: 0.4977 - val_accuracy: 0.7662\n",
            "Epoch 149/200\n",
            "20/20 [==============================] - 0s 4ms/step - loss: 0.5164 - accuracy: 0.7459 - val_loss: 0.4976 - val_accuracy: 0.7662\n",
            "Epoch 150/200\n",
            "20/20 [==============================] - 0s 4ms/step - loss: 0.5223 - accuracy: 0.7296 - val_loss: 0.4968 - val_accuracy: 0.7662\n",
            "Epoch 151/200\n",
            "20/20 [==============================] - 0s 4ms/step - loss: 0.5343 - accuracy: 0.7296 - val_loss: 0.4969 - val_accuracy: 0.7662\n",
            "Epoch 152/200\n",
            "20/20 [==============================] - 0s 5ms/step - loss: 0.5187 - accuracy: 0.7557 - val_loss: 0.4965 - val_accuracy: 0.7662\n",
            "Epoch 153/200\n",
            "20/20 [==============================] - 0s 4ms/step - loss: 0.5241 - accuracy: 0.7280 - val_loss: 0.4961 - val_accuracy: 0.7662\n",
            "Epoch 154/200\n",
            "20/20 [==============================] - 0s 4ms/step - loss: 0.5304 - accuracy: 0.7313 - val_loss: 0.4956 - val_accuracy: 0.7662\n",
            "Epoch 155/200\n",
            "20/20 [==============================] - 0s 4ms/step - loss: 0.5117 - accuracy: 0.7590 - val_loss: 0.4964 - val_accuracy: 0.7662\n",
            "Epoch 156/200\n",
            "20/20 [==============================] - 0s 4ms/step - loss: 0.5363 - accuracy: 0.7296 - val_loss: 0.4964 - val_accuracy: 0.7662\n",
            "Epoch 157/200\n",
            "20/20 [==============================] - 0s 4ms/step - loss: 0.5042 - accuracy: 0.7622 - val_loss: 0.4960 - val_accuracy: 0.7662\n",
            "Epoch 158/200\n",
            "20/20 [==============================] - 0s 4ms/step - loss: 0.5331 - accuracy: 0.7329 - val_loss: 0.4953 - val_accuracy: 0.7662\n",
            "Epoch 159/200\n",
            "20/20 [==============================] - 0s 4ms/step - loss: 0.5248 - accuracy: 0.7296 - val_loss: 0.4948 - val_accuracy: 0.7662\n",
            "Epoch 160/200\n",
            "20/20 [==============================] - 0s 9ms/step - loss: 0.5184 - accuracy: 0.7378 - val_loss: 0.4948 - val_accuracy: 0.7662\n",
            "Epoch 161/200\n",
            "20/20 [==============================] - 0s 6ms/step - loss: 0.5072 - accuracy: 0.7590 - val_loss: 0.4953 - val_accuracy: 0.7662\n",
            "Epoch 162/200\n",
            "20/20 [==============================] - 0s 6ms/step - loss: 0.5263 - accuracy: 0.7427 - val_loss: 0.4961 - val_accuracy: 0.7662\n",
            "Epoch 163/200\n",
            "20/20 [==============================] - 0s 5ms/step - loss: 0.5235 - accuracy: 0.7231 - val_loss: 0.4946 - val_accuracy: 0.7662\n",
            "Epoch 164/200\n",
            "20/20 [==============================] - 0s 6ms/step - loss: 0.5259 - accuracy: 0.7345 - val_loss: 0.4951 - val_accuracy: 0.7662\n",
            "Epoch 165/200\n",
            "20/20 [==============================] - 0s 5ms/step - loss: 0.5151 - accuracy: 0.7345 - val_loss: 0.4940 - val_accuracy: 0.7662\n",
            "Epoch 166/200\n",
            "20/20 [==============================] - 0s 5ms/step - loss: 0.5256 - accuracy: 0.7362 - val_loss: 0.4939 - val_accuracy: 0.7662\n",
            "Epoch 167/200\n",
            "20/20 [==============================] - 0s 5ms/step - loss: 0.5131 - accuracy: 0.7443 - val_loss: 0.4930 - val_accuracy: 0.7662\n",
            "Epoch 168/200\n",
            "20/20 [==============================] - 0s 6ms/step - loss: 0.5218 - accuracy: 0.7427 - val_loss: 0.4930 - val_accuracy: 0.7662\n",
            "Epoch 169/200\n",
            "20/20 [==============================] - 0s 7ms/step - loss: 0.5170 - accuracy: 0.7410 - val_loss: 0.4929 - val_accuracy: 0.7662\n",
            "Epoch 170/200\n",
            "20/20 [==============================] - 0s 5ms/step - loss: 0.5082 - accuracy: 0.7508 - val_loss: 0.4927 - val_accuracy: 0.7662\n",
            "Epoch 171/200\n",
            "20/20 [==============================] - 0s 5ms/step - loss: 0.5345 - accuracy: 0.7296 - val_loss: 0.4928 - val_accuracy: 0.7662\n",
            "Epoch 172/200\n",
            "20/20 [==============================] - 0s 6ms/step - loss: 0.5208 - accuracy: 0.7378 - val_loss: 0.4921 - val_accuracy: 0.7662\n",
            "Epoch 173/200\n",
            "20/20 [==============================] - 0s 6ms/step - loss: 0.5284 - accuracy: 0.7329 - val_loss: 0.4923 - val_accuracy: 0.7662\n",
            "Epoch 174/200\n",
            "20/20 [==============================] - 0s 6ms/step - loss: 0.5230 - accuracy: 0.7443 - val_loss: 0.4920 - val_accuracy: 0.7662\n",
            "Epoch 175/200\n",
            "20/20 [==============================] - 0s 6ms/step - loss: 0.5189 - accuracy: 0.7378 - val_loss: 0.4923 - val_accuracy: 0.7662\n",
            "Epoch 176/200\n",
            "20/20 [==============================] - 0s 5ms/step - loss: 0.5150 - accuracy: 0.7492 - val_loss: 0.4915 - val_accuracy: 0.7662\n",
            "Epoch 177/200\n",
            "20/20 [==============================] - 0s 6ms/step - loss: 0.5118 - accuracy: 0.7606 - val_loss: 0.4910 - val_accuracy: 0.7662\n",
            "Epoch 178/200\n",
            "20/20 [==============================] - 0s 6ms/step - loss: 0.5051 - accuracy: 0.7459 - val_loss: 0.4918 - val_accuracy: 0.7662\n",
            "Epoch 179/200\n",
            "20/20 [==============================] - 0s 6ms/step - loss: 0.5066 - accuracy: 0.7492 - val_loss: 0.4913 - val_accuracy: 0.7662\n",
            "Epoch 180/200\n",
            "20/20 [==============================] - 0s 6ms/step - loss: 0.5155 - accuracy: 0.7378 - val_loss: 0.4904 - val_accuracy: 0.7727\n",
            "Epoch 181/200\n",
            "20/20 [==============================] - 0s 6ms/step - loss: 0.5280 - accuracy: 0.7427 - val_loss: 0.4913 - val_accuracy: 0.7662\n",
            "Epoch 182/200\n",
            "20/20 [==============================] - 0s 6ms/step - loss: 0.5245 - accuracy: 0.7410 - val_loss: 0.4908 - val_accuracy: 0.7662\n",
            "Epoch 183/200\n",
            "20/20 [==============================] - 0s 6ms/step - loss: 0.5138 - accuracy: 0.7378 - val_loss: 0.4905 - val_accuracy: 0.7662\n",
            "Epoch 184/200\n",
            "20/20 [==============================] - 0s 6ms/step - loss: 0.5152 - accuracy: 0.7508 - val_loss: 0.4908 - val_accuracy: 0.7662\n",
            "Epoch 185/200\n",
            "20/20 [==============================] - 0s 5ms/step - loss: 0.5178 - accuracy: 0.7524 - val_loss: 0.4910 - val_accuracy: 0.7662\n",
            "Epoch 186/200\n",
            "20/20 [==============================] - 0s 7ms/step - loss: 0.5243 - accuracy: 0.7427 - val_loss: 0.4903 - val_accuracy: 0.7662\n",
            "Epoch 187/200\n",
            "20/20 [==============================] - 0s 5ms/step - loss: 0.5152 - accuracy: 0.7296 - val_loss: 0.4909 - val_accuracy: 0.7662\n",
            "Epoch 188/200\n",
            "20/20 [==============================] - 0s 5ms/step - loss: 0.5179 - accuracy: 0.7492 - val_loss: 0.4906 - val_accuracy: 0.7662\n",
            "Epoch 189/200\n",
            "20/20 [==============================] - 0s 6ms/step - loss: 0.5257 - accuracy: 0.7313 - val_loss: 0.4905 - val_accuracy: 0.7662\n",
            "Epoch 190/200\n",
            "20/20 [==============================] - 0s 6ms/step - loss: 0.4953 - accuracy: 0.7671 - val_loss: 0.4901 - val_accuracy: 0.7662\n",
            "Epoch 191/200\n",
            "20/20 [==============================] - 0s 6ms/step - loss: 0.5148 - accuracy: 0.7476 - val_loss: 0.4891 - val_accuracy: 0.7662\n",
            "Epoch 192/200\n",
            "20/20 [==============================] - 0s 6ms/step - loss: 0.5042 - accuracy: 0.7459 - val_loss: 0.4888 - val_accuracy: 0.7662\n",
            "Epoch 193/200\n",
            "20/20 [==============================] - 0s 5ms/step - loss: 0.5153 - accuracy: 0.7459 - val_loss: 0.4885 - val_accuracy: 0.7662\n",
            "Epoch 194/200\n",
            "20/20 [==============================] - 0s 4ms/step - loss: 0.5104 - accuracy: 0.7427 - val_loss: 0.4881 - val_accuracy: 0.7727\n",
            "Epoch 195/200\n",
            "20/20 [==============================] - 0s 4ms/step - loss: 0.5088 - accuracy: 0.7394 - val_loss: 0.4878 - val_accuracy: 0.7727\n",
            "Epoch 196/200\n",
            "20/20 [==============================] - 0s 5ms/step - loss: 0.5094 - accuracy: 0.7655 - val_loss: 0.4879 - val_accuracy: 0.7727\n",
            "Epoch 197/200\n",
            "20/20 [==============================] - 0s 4ms/step - loss: 0.5064 - accuracy: 0.7476 - val_loss: 0.4878 - val_accuracy: 0.7727\n",
            "Epoch 198/200\n",
            "20/20 [==============================] - 0s 4ms/step - loss: 0.5307 - accuracy: 0.7329 - val_loss: 0.4877 - val_accuracy: 0.7662\n",
            "Epoch 199/200\n",
            "20/20 [==============================] - 0s 4ms/step - loss: 0.5120 - accuracy: 0.7296 - val_loss: 0.4885 - val_accuracy: 0.7662\n",
            "Epoch 200/200\n",
            "20/20 [==============================] - 0s 4ms/step - loss: 0.5143 - accuracy: 0.7541 - val_loss: 0.4888 - val_accuracy: 0.7662\n"
          ]
        },
        {
          "output_type": "execute_result",
          "data": {
            "text/plain": [
              "<keras.src.callbacks.History at 0x7a0df643c4f0>"
            ]
          },
          "metadata": {},
          "execution_count": 84
        }
      ]
    }
  ]
}